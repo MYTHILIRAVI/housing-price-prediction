{
 "cells": [
  {
   "cell_type": "markdown",
   "metadata": {},
   "source": [
    "# Purpose"
   ]
  },
  {
   "cell_type": "markdown",
   "metadata": {},
   "source": [
    "This notebook demonstrates the model experimentation and finalization. It covers EDA, outlier treatment, transformation, training, model evaluation and comparison across models."
   ]
  },
  {
   "cell_type": "markdown",
   "metadata": {},
   "source": [
    "## Imports"
   ]
  },
  {
   "cell_type": "code",
   "execution_count": 15,
   "metadata": {},
   "outputs": [],
   "source": [
    "import os\n",
    "import os.path as op\n",
    "import shutil\n",
    "\n",
    "# standard third party imports\n",
    "import numpy as np\n",
    "import pandas as pd\n",
    "from matplotlib import pyplot as plt\n",
    "from sklearn.pipeline import Pipeline\n",
    "from sklearn.feature_selection import SelectFromModel\n",
    "from sklearn.model_selection import GridSearchCV\n",
    "from sklearn.preprocessing import FunctionTransformer\n",
    "from sklearn.compose import ColumnTransformer\n",
    "\n",
    "# impute missing values\n",
    "from sklearn.experimental import enable_iterative_imputer  # noqa\n",
    "from sklearn.impute import KNNImputer, IterativeImputer, SimpleImputer\n",
    "from sklearn.tree import DecisionTreeRegressor\n",
    "from category_encoders import TargetEncoder\n"
   ]
  },
  {
   "cell_type": "code",
   "execution_count": 16,
   "metadata": {},
   "outputs": [
    {
     "name": "stdout",
     "output_type": "stream",
     "text": [
      "The autoreload extension is already loaded. To reload it, use:\n",
      "  %reload_ext autoreload\n"
     ]
    }
   ],
   "source": [
    "%load_ext autoreload\n",
    "%autoreload 2"
   ]
  },
  {
   "cell_type": "code",
   "execution_count": 17,
   "metadata": {},
   "outputs": [],
   "source": [
    "# standard code-template imports\n",
    "from ta_lib.core.api import (\n",
    "    create_context, get_dataframe, get_feature_names_from_column_transformer, string_cleaning,\n",
    "    get_package_path, display_as_tabs, save_pipeline, load_pipeline, initialize_environment,\n",
    "    load_dataset, save_dataset, DEFAULT_ARTIFACTS_PATH\n",
    ")\n",
    "\n",
    "import ta_lib.eda.api as eda\n",
    "from xgboost import XGBRegressor\n",
    "from ta_lib.regression.api import SKLStatsmodelOLS\n",
    "from ta_lib.regression.api import RegressionComparison, RegressionReport\n",
    "import ta_lib.reports.api as reports\n",
    "from ta_lib.data_processing.api import Outlier\n",
    "\n",
    "initialize_environment(debug=False, hide_warnings=True)"
   ]
  },
  {
   "cell_type": "markdown",
   "metadata": {},
   "source": [
    "# Initialization"
   ]
  },
  {
   "cell_type": "code",
   "execution_count": 18,
   "metadata": {},
   "outputs": [],
   "source": [
    "artifacts_folder = DEFAULT_ARTIFACTS_PATH"
   ]
  },
  {
   "cell_type": "code",
   "execution_count": 19,
   "metadata": {},
   "outputs": [],
   "source": [
    "config_path = op.join('conf', 'config.yml')\n",
    "context = create_context(config_path)"
   ]
  },
  {
   "cell_type": "markdown",
   "metadata": {},
   "source": [
    "# 3 Feature Engineering\n",
    "\n",
    "The focus here is the `Pipeline` and not the model. Though the model would inform the pipeline that is needed to train the model, our focus is to set it up in such a way that it can be saved/loaded, tweaked for different model choices and so on."
   ]
  },
  {
   "cell_type": "markdown",
   "metadata": {},
   "source": [
    "## 3.1 Read the Train and Test Data"
   ]
  },
  {
   "cell_type": "code",
   "execution_count": 20,
   "metadata": {},
   "outputs": [
    {
     "name": "stdout",
     "output_type": "stream",
     "text": [
      "(16512, 9) (16512, 1)\n",
      "(4128, 9) (4128, 1)\n"
     ]
    }
   ],
   "source": [
    "train_X = load_dataset(context, 'train/housing/features')\n",
    "train_y = load_dataset(context, 'train/housing/target')\n",
    "print(train_X.shape, train_y.shape)\n",
    "\n",
    "test_X = load_dataset(context, 'test/housing/features')\n",
    "test_y = load_dataset(context, 'test/housing/target')\n",
    "print(test_X.shape, test_y.shape)"
   ]
  },
  {
   "cell_type": "markdown",
   "metadata": {},
   "source": [
    "## 3.2 Feature Engineering Pipelines\n"
   ]
  },
  {
   "cell_type": "markdown",
   "metadata": {},
   "source": [
    "**Dev NOTES**\n",
    "\n",
    "For Feature Engineering and Model Building sklearn.pipeline.Pipeline are leveraged because of the following advantages\n",
    "<details>\n",
    "    \n",
    "1. It helps in automating workflows and are easier to read and comprehend.\n",
    "2. Right Sequence can be ensured and (for example always encodes before imputing)\n",
    "3. Reproducibility is very convenient with pipelines\n",
    "4. Pipelines help you prevent data leakage in your test data\n",
    "5. Code is near implementation ready"
   ]
  },
  {
   "cell_type": "markdown",
   "metadata": {},
   "source": [
    "#### General Steps in the Feature Transformation are as follows\n",
    " - Outlier Treatment\n",
    " - Encoding of Categorical Columns\n",
    " - Missing Values Imputation"
   ]
  },
  {
   "cell_type": "code",
   "execution_count": 21,
   "metadata": {},
   "outputs": [
    {
     "name": "stdout",
     "output_type": "stream",
     "text": [
      "Index(['longitude', 'latitude', 'housing_median_age', 'total_rooms',\n",
      "       'total_bedrooms', 'population', 'households', 'median_income'],\n",
      "      dtype='object')\n"
     ]
    }
   ],
   "source": [
    "# collecting different types of columns for transformations\n",
    "cat_columns = train_X.select_dtypes('object').columns\n",
    "num_columns = train_X.select_dtypes('number').columns\n",
    "print(num_columns)"
   ]
  },
  {
   "cell_type": "markdown",
   "metadata": {},
   "source": [
    "#### Outlier Handling\n",
    "- A Custom Transformer is used to handle outliers. It is not included as part of the pipeline as outliers handling are optional for test data\n",
    "- An option to either drop or cap the outliers can be passed during the transform call\n",
    "- If we want to treat outliers for some columns them we can pass cols argument to the Transformer\n",
    "- This will go into production code"
   ]
  },
  {
   "cell_type": "code",
   "execution_count": 22,
   "metadata": {},
   "outputs": [
    {
     "name": "stdout",
     "output_type": "stream",
     "text": [
      "(16512, 9)\n",
      "(16512, 9)\n"
     ]
    }
   ],
   "source": [
    "outlier_transformer = Outlier(method='mean')\n",
    "print(train_X.shape)\n",
    "train_X = outlier_transformer.fit_transform(train_X)\n",
    "print(train_X.shape)"
   ]
  },
  {
   "cell_type": "markdown",
   "metadata": {},
   "source": [
    "#### Encoding\n"
   ]
  },
  {
   "cell_type": "markdown",
   "metadata": {},
   "source": [
    "Some sample pipelines showcasing how to create column specific pipelines and integrating them overall is presented below\n",
    "\n",
    "- Commonly target encoding is done for categorical variables with too many levels.\n",
    "- We also group sparse levels. For fewer levels one hot encoding/label encoding is preferred.\n",
    "- If there is one dominant level, we can use binary encoding.\n",
    "- This will go into production code"
   ]
  },
  {
   "cell_type": "code",
   "execution_count": 23,
   "metadata": {},
   "outputs": [],
   "source": [
    "from sklearn.base import BaseEstimator, TransformerMixin\n",
    "\n",
    "col_names = \"total_rooms\", \"total_bedrooms\", \"population\", \"households\"\n",
    "rooms_ix, bedrooms_ix, population_ix, households_ix = [\n",
    "    train_X.columns.get_loc(c) for c in col_names]\n",
    "\n",
    "class CombinedAttributesAdder(BaseEstimator, TransformerMixin):\n",
    "    def __init__(self, add_bedrooms_per_room=True): # no *args or **kargs\n",
    "        self.add_bedrooms_per_room = add_bedrooms_per_room\n",
    "    def fit(self, X, y=None):\n",
    "        return self  # nothing else to do\n",
    "    def transform(self, X):\n",
    "        temp_cols = X.columns.to_list()\n",
    "        X=X.values\n",
    "        temp_cols.extend(['rooms_per_household', 'population_per_household',\n",
    "                         'bedrooms_per_room'])\n",
    "        new_cols = {k:v for k,v in zip(range(len(temp_cols)),temp_cols)}\n",
    "        rooms_per_household = X[:, rooms_ix] / X[:, households_ix]\n",
    "        population_per_household = X[:, population_ix] / X[:, households_ix]\n",
    "        if self.add_bedrooms_per_room:\n",
    "            bedrooms_per_room = X[:, bedrooms_ix] / X[:, rooms_ix]\n",
    "            finaldf = pd.DataFrame(np.c_[X, rooms_per_household, population_per_household,\n",
    "                         bedrooms_per_room]).rename(columns=new_cols)\n",
    "        else:\n",
    "            finaldf = pd.DataFrame(np.c_[X, rooms_per_household, population_per_household]).rename(columns=new_cols)\n",
    "        return finaldf\n",
    "     "
   ]
  },
  {
   "cell_type": "code",
   "execution_count": 24,
   "metadata": {},
   "outputs": [
    {
     "name": "stdout",
     "output_type": "stream",
     "text": [
      "Index(['longitude', 'latitude', 'housing_median_age', 'total_rooms',\n",
      "       'total_bedrooms', 'population', 'households', 'median_income',\n",
      "       'rooms_per_household', 'population_per_household', 'bedrooms_per_room'],\n",
      "      dtype='object')\n"
     ]
    }
   ],
   "source": [
    "from sklearn.preprocessing import StandardScaler\n",
    "attrib_adder=CombinedAttributesAdder()\n",
    "cat=train_X['ocean_proximity']\n",
    "train_X=attrib_adder.transform(train_X[num_columns])\n",
    "num_cols=train_X.select_dtypes('number').columns\n",
    "train_X['ocean_proximity']=cat\n",
    "print(num_cols)"
   ]
  },
  {
   "cell_type": "code",
   "execution_count": 25,
   "metadata": {},
   "outputs": [],
   "source": [
    "num_pipeline = Pipeline([\n",
    "        ('imputer', SimpleImputer(strategy=\"median\")),\n",
    "        ('std_scaler', StandardScaler()),\n",
    "    ])"
   ]
  },
  {
   "cell_type": "code",
   "execution_count": 26,
   "metadata": {},
   "outputs": [],
   "source": [
    "from sklearn.compose import ColumnTransformer\n",
    "from sklearn.preprocessing import OneHotEncoder"
   ]
  },
  {
   "cell_type": "code",
   "execution_count": 27,
   "metadata": {},
   "outputs": [
    {
     "name": "stdout",
     "output_type": "stream",
     "text": [
      "[[ 1.24693819 -1.32781903 -0.28552449 ...  0.          0.\n",
      "   1.        ]\n",
      " [ 0.62705927 -0.71890811  0.5908656  ...  0.          0.\n",
      "   0.        ]\n",
      " [ 1.15195675 -0.83600636 -1.32125823 ...  0.          0.\n",
      "   0.        ]\n",
      " ...\n",
      " [-1.20258336  1.01414605 -0.9228991  ...  0.          0.\n",
      "   0.        ]\n",
      " [-1.04761363  0.50359766  0.35185012 ...  0.          0.\n",
      "   0.        ]\n",
      " [ 0.65205439 -0.75169562  0.98922473 ...  0.          0.\n",
      "   0.        ]]\n"
     ]
    }
   ],
   "source": [
    "features_transformer = ColumnTransformer([\n",
    "    (\"num\", num_pipeline , num_cols),\n",
    "    (\"cat\", OneHotEncoder(), cat_columns),\n",
    "])\n",
    "print(features_transformer.fit_transform(train_X, train_y))"
   ]
  },
  {
   "cell_type": "code",
   "execution_count": 28,
   "metadata": {},
   "outputs": [],
   "source": [
    "sample_X = train_X.sample(frac=0.1, random_state=context.random_seed)\n",
    "sample_y = train_y.loc[sample_X.index]\n",
    "housing=features_transformer.fit_transform(sample_X, sample_y)\n",
    "sample_train_X = get_dataframe(\n",
    "    features_transformer.fit_transform(sample_X, sample_y), \n",
    "    get_feature_names_from_column_transformer(features_transformer)\n",
    ")\n",
    "\n",
    "# nothing to do for target\n",
    "sample_train_y = sample_y"
   ]
  },
  {
   "cell_type": "markdown",
   "metadata": {},
   "source": [
    "**Dev notes(Encoding):**\n",
    "<details>\n",
    "\n",
    "    Some common practices followed in Categorical Feature Encoding are\n",
    "    * For categorical variables with too many levels, target encoding can be done.\n",
    "    * For fewer levels, one hot encoding can be done.\n",
    "    * If one very dominant level is observed, binary encoding can be used.\n",
    "    \n",
    "    \n",
    "</details>"
   ]
  },
  {
   "cell_type": "markdown",
   "metadata": {},
   "source": [
    "## 3.2 Feature analysis\n",
    "\n",
    "Using the pipeline above analyze the features and decide on additional features to add/remove from the pipeline. This section will not be part of the production code, unless input data drifts etc. are explicitly demanded in the project.\n",
    "\n",
    "Here we are primarily focused on feature selection/elimination based on business rules, prior knowledge, data analysis.\n",
    "\n",
    "**We are not building any models at this point.**\n"
   ]
  },
  {
   "cell_type": "markdown",
   "metadata": {},
   "source": [
    "- we create some sample data to analyze that we assume represent the population\n",
    "- train the features transformer and do the analysis as below"
   ]
  },
  {
   "cell_type": "markdown",
   "metadata": {},
   "source": [
    "Running the features transformer on the complete data"
   ]
  },
  {
   "cell_type": "code",
   "execution_count": 29,
   "metadata": {},
   "outputs": [],
   "source": [
    "train_X = get_dataframe(\n",
    "    features_transformer.fit_transform(train_X, train_y), \n",
    "    get_feature_names_from_column_transformer(features_transformer)\n",
    ")"
   ]
  },
  {
   "cell_type": "markdown",
   "metadata": {},
   "source": [
    "### 3.2.1 Univariate\n",
    "\n",
    "\n",
    "- Look at each variable independently. This is useful if your models have assumptions on the distribution and/or bounds on the features/target"
   ]
  },
  {
   "cell_type": "code",
   "execution_count": 30,
   "metadata": {},
   "outputs": [
    {
     "data": {
      "text/plain": [
       "Index(['num_longitude', 'num_latitude', 'num_housing_median_age',\n",
       "       'num_total_rooms', 'num_total_bedrooms', 'num_population',\n",
       "       'num_households', 'num_median_income', 'num_rooms_per_household',\n",
       "       'num_population_per_household', 'num_bedrooms_per_room',\n",
       "       'ocean_proximity_<1H OCEAN', 'ocean_proximity_INLAND',\n",
       "       'ocean_proximity_ISLAND', 'ocean_proximity_NEAR BAY',\n",
       "       'ocean_proximity_NEAR OCEAN'],\n",
       "      dtype='object')"
      ]
     },
     "execution_count": 30,
     "metadata": {},
     "output_type": "execute_result"
    }
   ],
   "source": [
    "train_X.columns"
   ]
  },
  {
   "cell_type": "code",
   "execution_count": 31,
   "metadata": {},
   "outputs": [
    {
     "data": {},
     "metadata": {},
     "output_type": "display_data"
    },
    {
     "data": {
      "application/vnd.holoviews_exec.v0+json": "",
      "text/html": [
       "<div id='1001'>\n",
       "\n",
       "\n",
       "\n",
       "\n",
       "\n",
       "  <div class=\"bk-root\" id=\"d4a7d3dd-0ffe-421b-a175-288e4cc301df\" data-root-id=\"1001\"></div>\n",
       "</div>\n",
       "<script type=\"application/javascript\">(function(root) {\n",
       "  function embed_document(root) {\n",
       "  var docs_json = {\"a3a47ac2-f416-4b62-8cf5-73dd3807e542\":{\"roots\":{\"references\":[{\"attributes\":{\"align\":null,\"below\":[{\"id\":\"1018\"}],\"center\":[{\"id\":\"1021\"},{\"id\":\"1025\"}],\"extra_y_ranges\":{\"twiny\":{\"id\":\"1059\"}},\"left\":[{\"id\":\"1022\"}],\"margin\":null,\"min_border_bottom\":10,\"min_border_left\":10,\"min_border_right\":10,\"min_border_top\":10,\"plot_height\":300,\"renderers\":[{\"id\":\"1049\"},{\"id\":\"1057\"}],\"right\":[{\"id\":\"1060\"}],\"sizing_mode\":\"fixed\",\"title\":{\"id\":\"1010\"},\"toolbar\":{\"id\":\"1032\"},\"toolbar_location\":null,\"x_range\":{\"id\":\"1006\"},\"x_scale\":{\"id\":\"1014\"},\"y_range\":{\"id\":\"1007\"},\"y_scale\":{\"id\":\"1016\"}},\"id\":\"1009\",\"subtype\":\"Figure\",\"type\":\"Plot\"},{\"attributes\":{\"source\":{\"id\":\"1145\"}},\"id\":\"1188\",\"type\":\"CDSView\"},{\"attributes\":{\"data\":{\"left\":{\"__ndarray__\":\"BcpUpMiUAcANS+tFaen/vxECLUNBqfy/FLluQBlp+b8YcLA98Sj2vxsn8jrJ6PK/PLxncEJR779EKutq8tDov0qYbmWiUOK/oAzkv6Sg179g0dVpCUDFvwDacbDaBKM/cL4OwnbCzj8ogwBs22HcP4zTfLs9seQ/iGX5wI0x6z/A+zrj7tjwP7xE+eUWGfQ/uo236D5Z9z+21nXrZpn6Pw==\",\"dtype\":\"float64\",\"order\":\"little\",\"shape\":[20]},\"right\":{\"__ndarray__\":\"DUvrRWnp/78RAi1DQan8vxS5bkAZafm/GHCwPfEo9r8bJ/I6yejyvzy8Z3BCUe+/RCrravLQ6L9KmG5lolDiv6AM5L+koNe/YNHVaQlAxb8A2nGw2gSjP3C+DsJ2ws4/KIMAbNth3D+M03y7PbHkP4hl+cCNMes/wPs64+7Y8D+8RPnlFhn0P7qNt+g+Wfc/ttZ162aZ+j+xHzTujtn9Pw==\",\"dtype\":\"float64\",\"order\":\"little\",\"shape\":[20]},\"top\":[90,482,299,601,430,1341,1016,1161,671,1328,1157,722,1503,1378,1010,500,848,435,390,1150]},\"selected\":{\"id\":\"1044\"},\"selection_policy\":{\"id\":\"1070\"}},\"id\":\"1043\",\"type\":\"ColumnDataSource\"},{\"attributes\":{\"text\":\"Density Plot for num_housing_median_age\",\"text_color\":{\"value\":\"black\"},\"text_font_size\":{\"value\":\"12pt\"}},\"id\":\"1010\",\"type\":\"Title\"},{\"attributes\":{\"margin\":[5,5,5,5],\"name\":\"HSpacer02888\",\"sizing_mode\":\"stretch_width\"},\"id\":\"1005\",\"type\":\"Spacer\"},{\"attributes\":{\"overlay\":{\"id\":\"1031\"}},\"id\":\"1029\",\"type\":\"BoxZoomTool\"},{\"attributes\":{\"axis\":{\"id\":\"1018\"},\"grid_line_color\":null,\"ticker\":null},\"id\":\"1021\",\"type\":\"Grid\"},{\"attributes\":{\"axis_label\":\"num_housing_median_age\",\"bounds\":\"auto\",\"formatter\":{\"id\":\"1039\"},\"major_label_orientation\":\"horizontal\",\"ticker\":{\"id\":\"1019\"}},\"id\":\"1018\",\"type\":\"LinearAxis\"},{\"attributes\":{\"axis_label\":\"num_housing_median_age_density, y\",\"formatter\":{\"id\":\"1067\"},\"ticker\":{\"id\":\"1066\"},\"y_range_name\":\"twiny\"},\"id\":\"1060\",\"type\":\"LinearAxis\"},{\"attributes\":{\"format\":\"0,0.0[00000]\"},\"id\":\"1327\",\"type\":\"NumberFormatter\"},{\"attributes\":{},\"id\":\"1146\",\"type\":\"Selection\"},{\"attributes\":{\"data\":{\"A_25_percent\":{\"__ndarray__\":\"4XoUrkfh6r8=\",\"dtype\":\"float64\",\"order\":\"little\",\"shape\":[1]},\"A_50_percent\":{\"__ndarray__\":\"uB6F61G4nj8=\",\"dtype\":\"float64\",\"order\":\"little\",\"shape\":[1]},\"A_75_percent\":{\"__ndarray__\":\"cT0K16Nw5T8=\",\"dtype\":\"float64\",\"order\":\"little\",\"shape\":[1]},\"count\":{\"__ndarray__\":\"AAAAAAAg0EA=\",\"dtype\":\"float64\",\"order\":\"little\",\"shape\":[1]},\"max\":{\"__ndarray__\":\"7FG4HoXr/T8=\",\"dtype\":\"float64\",\"order\":\"little\",\"shape\":[1]},\"mean\":{\"__ndarray__\":\"AAAAAAAAAIA=\",\"dtype\":\"float64\",\"order\":\"little\",\"shape\":[1]},\"min\":{\"__ndarray__\":\"mpmZmZmZAcA=\",\"dtype\":\"float64\",\"order\":\"little\",\"shape\":[1]},\"std\":{\"__ndarray__\":\"AAAAAAAA8D8=\",\"dtype\":\"float64\",\"order\":\"little\",\"shape\":[1]}},\"selected\":{\"id\":\"1146\"},\"selection_policy\":{\"id\":\"1203\"}},\"id\":\"1145\",\"type\":\"ColumnDataSource\"},{\"attributes\":{\"end\":0.42566052614553507},\"id\":\"1059\",\"type\":\"Range1d\"},{\"attributes\":{\"margin\":[5,5,5,5],\"name\":\"HSpacer02885\",\"sizing_mode\":\"stretch_width\"},\"id\":\"1385\",\"type\":\"Spacer\"},{\"attributes\":{\"editor\":{\"id\":\"1313\"},\"field\":\"count\",\"formatter\":{\"id\":\"1312\"},\"title\":\"count\"},\"id\":\"1314\",\"type\":\"TableColumn\"},{\"attributes\":{\"fill_alpha\":0.2,\"fill_color\":\"#1f77b3\",\"line_alpha\":0.2,\"x\":{\"field\":\"x\"},\"y\":{\"field\":\"y\"}},\"id\":\"1056\",\"type\":\"Patch\"},{\"attributes\":{},\"id\":\"1019\",\"type\":\"BasicTicker\"},{\"attributes\":{},\"id\":\"1323\",\"type\":\"NumberEditor\"},{\"attributes\":{\"source\":{\"id\":\"1051\"}},\"id\":\"1058\",\"type\":\"CDSView\"},{\"attributes\":{\"active_drag\":\"auto\",\"active_inspect\":\"auto\",\"active_multi\":null,\"active_scroll\":\"auto\",\"active_tap\":\"auto\",\"tools\":[{\"id\":\"1008\"},{\"id\":\"1026\"},{\"id\":\"1027\"},{\"id\":\"1028\"},{\"id\":\"1029\"},{\"id\":\"1030\"}]},\"id\":\"1032\",\"type\":\"Toolbar\"},{\"attributes\":{\"format\":\"0,0.0[00000]\"},\"id\":\"1317\",\"type\":\"NumberFormatter\"},{\"attributes\":{},\"id\":\"1030\",\"type\":\"ResetTool\"},{\"attributes\":{\"margin\":[20,20,20,20],\"min_width\":250,\"options\":[\"num_housing_median_age\",\"num_total_rooms\",\"num_total_bedrooms\",\"num_population\",\"num_households\",\"num_median_income\",\"num_rooms_per_household\",\"num_population_per_household\",\"num_bedrooms_per_room\"],\"title\":\"col\",\"value\":\"num_housing_median_age\",\"width\":250},\"id\":\"1384\",\"type\":\"Select\"},{\"attributes\":{},\"id\":\"1027\",\"type\":\"PanTool\"},{\"attributes\":{},\"id\":\"1067\",\"type\":\"BasicTickFormatter\"},{\"attributes\":{},\"id\":\"1028\",\"type\":\"WheelZoomTool\"},{\"attributes\":{},\"id\":\"1023\",\"type\":\"BasicTicker\"},{\"attributes\":{\"children\":[{\"id\":\"1004\"},{\"id\":\"1381\"}],\"margin\":[0,0,0,0],\"name\":\"Column02891\"},\"id\":\"1003\",\"type\":\"Column\"},{\"attributes\":{},\"id\":\"1026\",\"type\":\"SaveTool\"},{\"attributes\":{\"margin\":[5,5,5,5],\"name\":\"HSpacer02892\",\"sizing_mode\":\"stretch_width\"},\"id\":\"1386\",\"type\":\"Spacer\"},{\"attributes\":{},\"id\":\"1070\",\"type\":\"UnionRenderers\"},{\"attributes\":{\"callback\":null,\"renderers\":[{\"id\":\"1057\"}],\"tags\":[\"hv_created\"],\"tooltips\":[[\"num_housing_median_age\",\"@{num_housing_median_age}\"],[\"Density\",\"@{num_housing_median_age_density}\"]]},\"id\":\"1008\",\"type\":\"HoverTool\"},{\"attributes\":{\"axis_label\":\"Frequency\",\"bounds\":\"auto\",\"formatter\":{\"id\":\"1041\"},\"major_label_orientation\":\"horizontal\",\"ticker\":{\"id\":\"1023\"}},\"id\":\"1022\",\"type\":\"LinearAxis\"},{\"attributes\":{\"axis\":{\"id\":\"1022\"},\"dimension\":1,\"grid_line_color\":null,\"ticker\":null},\"id\":\"1025\",\"type\":\"Grid\"},{\"attributes\":{\"data_source\":{\"id\":\"1051\"},\"glyph\":{\"id\":\"1054\"},\"hover_glyph\":null,\"muted_glyph\":{\"id\":\"1056\"},\"nonselection_glyph\":{\"id\":\"1055\"},\"selection_glyph\":null,\"view\":{\"id\":\"1058\"},\"y_range_name\":\"twiny\"},\"id\":\"1057\",\"type\":\"GlyphRenderer\"},{\"attributes\":{},\"id\":\"1066\",\"type\":\"BasicTicker\"},{\"attributes\":{},\"id\":\"1052\",\"type\":\"Selection\"},{\"attributes\":{\"margin\":[5,5,5,5],\"name\":\"HSpacer02884\",\"sizing_mode\":\"stretch_width\"},\"id\":\"1382\",\"type\":\"Spacer\"},{\"attributes\":{},\"id\":\"1203\",\"type\":\"UnionRenderers\"},{\"attributes\":{\"fill_alpha\":0.5,\"fill_color\":\"#1f77b3\",\"line_alpha\":1,\"x\":{\"field\":\"x\"},\"y\":{\"field\":\"y\"}},\"id\":\"1055\",\"type\":\"Patch\"},{\"attributes\":{\"data\":{\"x\":{\"__ndarray__\":\"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\",\"dtype\":\"float64\",\"order\":\"little\",\"shape\":[200]},\"y\":{\"__ndarray__\":\"AAAAAAAAAAAAAAAAAAAAAAAAAAAAAAAAAAAAAAAAAAAAAAAAAAAAAAAAAAAAAAAAAAAAAAAAAAAAAAAAAAAAAAAAAAAAAAAAAAAAAAAAAAAAAAAAAAAAAAAAAAAAAAAAAAAAAAAAAAAAAAAAAAAAAAAAAAAAAAAAAAAAAAAAAAAAAAAAAAAAAAAAAAAAAAAAAAAAAAAAAAAAAAAAAAAAAAAAAAAAAAAAAAAAAAAAAAAAAAAAAAAAAAAAAAAAAAAAAAAAAAAAAAAAAAAAAAAAAAAAAAAAAAAAAAAAAAAAAAAAAAAAAAAAAAAAAAAAAAAAAAAAAAAAAAAAAAAAAAAAAAAAAAAAAAAAAAAAAAAAAAAAAAAAAAAAAAAAAAAAAAAAAAAAAAAAAAAAAAAAAAAAAAAAAAAAAAAAAAAAAAAAAAAAAAAAAAAAAAAAAAAAAAAAAAAAAAAAAAAAAAAAAAAAAAAAAAAAAAAAAAAAAAAAAAAAAAAAAAAAAAAAAAAAAAAAAAAAAAAAAAAAAAAAAAAAAAAAAAAAAAAAAAAAAAAAAAAAAAAAAAAAAAAAAAAAAAAAAAAAAAAAAAAAAAAAAAAAAAAAAAAAAAAAAAAAAAAAAAAAAAAAAAAAAAAAAAAAAAAAAAAAAAAAAAAAAAAAAAAAAAAAAAAAAAAAAAAAAAAAAAAAAAAAAAAAAAAAAAAAAAAAAAAAAAAAAAAAAAAAAAAAAAAAAAAAAAAAAAAAAAAAAAAAAAAAAAAAAAAAAAAAAAAAAAAAAAAAAAAAAAAAAAAAAAAAAAAAAAAAAAAAAAAAAAAAAAAAAAAAAAAAAAAAAAAAAAAAAAAAAAAAAAAAAAAAAAAAAAAAAAAAAAAAAAAAAAAAAAAAAAAAAAAAAAAAAAAAAAAAAAAAAAAAAAAAAAAAAAAAAAAAAAAAAAAAAAAAAAAAAAAAAAAAAAAAAAAAAAAAAAAAAAAAAAAAAAAAAAAAAAAAAAAAAAAAAAAAAAAAAAAAAAAAAAAAAAAAAAAAAAAAAAAAAAAAAAAAAAAAAAAAAAAAAAAAAAAAAAAAAAAAAAA9tCFlD9xeP+bcO6WDnXQ/94n/LiJxiD+nhM3+urmZP/3eyzP9DKg/sq81p5X9sz9ZrbyFk5a9P4gwrRP8isM/qmu/2j4ixz8qD+uxh7XIP2/I2NhMGcg/3sRgm1DmxT/KUJxyNSXDP+0HVr2hz8A/HpJW/Cbwvj+2Ydka3Hi+P+AyGG1L278/600ffLVAwT81+ISTyuzCP4swxFpitMQ/beORBKVkxj+xvQu7P9XHP0Zga6cN7Mg/jrjtRnmiyT8qI1L49QjKP4/+gvhHRso/Vi91Y66Syj9MjDNLqTDLPw9f6W2mZMw//iI4yVhqzj9BuuSgTbLQP3qDqBHho9I/FeXuHXDj1D8cO0If5CnXP9WDgnuYHtk/N2kxNj9y2j8W2RPr+PjaP/N4ZhrUtdo/TN0vpvvS2T8c7LXu2o3YP6AHaXSyI9c/Ebqw5LXG1T9b1690jJvUP5UwZNZdutM/BlID/pkv0z+T8Xxu7/vSP9ggsrSFFNM/7jO0BSFk0z9UpMKEU83TP9nIr3FRLtQ/SQa/uiZn1D/gP6wIoWHUP8plBKwiGNQ/LRkb1QeY0z+DKxxiMv7SP9j/Lqoib9I//dkioKsN0j/61QDNR/PRP8NWLfwGLNI/AN+392+20j8N1R5xx4XTP66khEn5g9Q/F8J2olOR1T/gyUo8YYPWP3sbPfYZJ9c/kigsAyRK1z8OcNOcIcrWP2Zx4oIyo9U/9ZTcWgj10z+xgRL9gvrRPx+4rcEF788/9rEt+BBLzD8UMBn3ok3JP4yLtr0hBsc/ca58vClZxT8qezB3+RTEP1JYgsnwB8M/yiPL3YARwj/dC2PoVyjBP8hN2+3eVMA/bByeRQ1Hvz/gT9/pgSq+P9MFhfsRK70/buBK/SL4uz9tSUGavza6P+W04eXrq7c/inXWyFJctD8+DTfU842wP6PlGtYgV6k/GIjtPLE4oj/543jPu5eYP6KOEeCSGY8/R/O6sh1fgj/WzS/zfjB0PzEk3g3DhmQ/w+O6okUyUz/izqrZpWxAP228VojClyk/rva6Bn4WEj8+J4hAtB/3Pg==\",\"dtype\":\"float64\",\"order\":\"little\",\"shape\":[200]}},\"selected\":{\"id\":\"1052\"},\"selection_policy\":{\"id\":\"1072\"}},\"id\":\"1051\",\"type\":\"ColumnDataSource\"},{\"attributes\":{},\"id\":\"1039\",\"type\":\"BasicTickFormatter\"},{\"attributes\":{\"children\":[{\"id\":\"1384\"}],\"css_classes\":[\"panel-widget-box\"],\"margin\":[5,5,5,5],\"name\":\"WidgetBox02879\"},\"id\":\"1383\",\"type\":\"Column\"},{\"attributes\":{},\"id\":\"1348\",\"type\":\"NumberEditor\"},{\"attributes\":{},\"id\":\"1016\",\"type\":\"LinearScale\"},{\"attributes\":{\"format\":\"0,0.0[00000]\"},\"id\":\"1342\",\"type\":\"NumberFormatter\"},{\"attributes\":{},\"id\":\"1044\",\"type\":\"Selection\"},{\"attributes\":{\"children\":[{\"id\":\"1382\"},{\"id\":\"1383\"},{\"id\":\"1385\"}],\"margin\":[0,0,0,0],\"name\":\"Row02886\"},\"id\":\"1381\",\"type\":\"Row\"},{\"attributes\":{\"editor\":{\"id\":\"1338\"},\"field\":\"A_50_percent\",\"formatter\":{\"id\":\"1337\"},\"title\":\"50%\"},\"id\":\"1339\",\"type\":\"TableColumn\"},{\"attributes\":{},\"id\":\"1328\",\"type\":\"NumberEditor\"},{\"attributes\":{\"bottom\":{\"value\":0},\"fill_alpha\":{\"value\":0.2},\"fill_color\":{\"value\":\"#00fff0\"},\"left\":{\"field\":\"left\"},\"line_alpha\":{\"value\":0.2},\"right\":{\"field\":\"right\"},\"top\":{\"field\":\"top\"}},\"id\":\"1048\",\"type\":\"Quad\"},{\"attributes\":{\"style\":{\"white-space\":\"nowrap\"},\"text\":\"<span style=\\\"color:black;font-family:Arial;font-style:bold;font-weight:bold;font-size:12pt\\\">col: num_housing_median_age</span>\",\"width\":450},\"id\":\"1208\",\"type\":\"Div\"},{\"attributes\":{\"editor\":{\"id\":\"1348\"},\"field\":\"max\",\"formatter\":{\"id\":\"1347\"},\"title\":\"max\"},\"id\":\"1349\",\"type\":\"TableColumn\"},{\"attributes\":{\"client_comm_id\":\"8cddf2da12df4609ae1bbe895aed62ef\",\"comm_id\":\"871b5204dc5a4ce0a05dde5f3a08433b\",\"plot_id\":\"1001\"},\"id\":\"1429\",\"type\":\"panel.models.comm_manager.CommManager\"},{\"attributes\":{\"columns\":[{\"id\":\"1314\"},{\"id\":\"1319\"},{\"id\":\"1324\"},{\"id\":\"1329\"},{\"id\":\"1334\"},{\"id\":\"1339\"},{\"id\":\"1344\"},{\"id\":\"1349\"}],\"height\":60,\"reorderable\":false,\"source\":{\"id\":\"1145\"},\"view\":{\"id\":\"1188\"}},\"id\":\"1187\",\"type\":\"DataTable\"},{\"attributes\":{\"editor\":{\"id\":\"1343\"},\"field\":\"A_75_percent\",\"formatter\":{\"id\":\"1342\"},\"title\":\"75%\"},\"id\":\"1344\",\"type\":\"TableColumn\"},{\"attributes\":{\"format\":\"0,0.0[00000]\"},\"id\":\"1347\",\"type\":\"NumberFormatter\"},{\"attributes\":{},\"id\":\"1343\",\"type\":\"NumberEditor\"},{\"attributes\":{\"toolbar\":{\"id\":\"1205\"},\"toolbar_location\":\"above\"},\"id\":\"1206\",\"type\":\"ToolbarBox\"},{\"attributes\":{},\"id\":\"1338\",\"type\":\"NumberEditor\"},{\"attributes\":{\"editor\":{\"id\":\"1328\"},\"field\":\"min\",\"formatter\":{\"id\":\"1327\"},\"title\":\"min\"},\"id\":\"1329\",\"type\":\"TableColumn\"},{\"attributes\":{\"fill_alpha\":0.5,\"fill_color\":\"#1f77b3\",\"x\":{\"field\":\"x\"},\"y\":{\"field\":\"y\"}},\"id\":\"1054\",\"type\":\"Patch\"},{\"attributes\":{\"editor\":{\"id\":\"1333\"},\"field\":\"A_25_percent\",\"formatter\":{\"id\":\"1332\"},\"title\":\"25%\"},\"id\":\"1334\",\"type\":\"TableColumn\"},{\"attributes\":{\"source\":{\"id\":\"1043\"}},\"id\":\"1050\",\"type\":\"CDSView\"},{\"attributes\":{\"margin\":[5,5,5,5],\"name\":\"HSpacer02889\",\"sizing_mode\":\"stretch_width\"},\"id\":\"1380\",\"type\":\"Spacer\"},{\"attributes\":{\"format\":\"0,0.0[00000]\"},\"id\":\"1337\",\"type\":\"NumberFormatter\"},{\"attributes\":{\"editor\":{\"id\":\"1323\"},\"field\":\"std\",\"formatter\":{\"id\":\"1322\"},\"title\":\"std\"},\"id\":\"1324\",\"type\":\"TableColumn\"},{\"attributes\":{\"editor\":{\"id\":\"1318\"},\"field\":\"mean\",\"formatter\":{\"id\":\"1317\"},\"title\":\"mean\"},\"id\":\"1319\",\"type\":\"TableColumn\"},{\"attributes\":{},\"id\":\"1333\",\"type\":\"NumberEditor\"},{\"attributes\":{\"format\":\"0,0.0[00000]\"},\"id\":\"1332\",\"type\":\"NumberFormatter\"},{\"attributes\":{\"bottom\":{\"value\":0},\"fill_alpha\":{\"value\":0.1},\"fill_color\":{\"value\":\"#00fff0\"},\"left\":{\"field\":\"left\"},\"line_alpha\":{\"value\":0.1},\"right\":{\"field\":\"right\"},\"top\":{\"field\":\"top\"}},\"id\":\"1047\",\"type\":\"Quad\"},{\"attributes\":{\"data_source\":{\"id\":\"1043\"},\"glyph\":{\"id\":\"1046\"},\"hover_glyph\":null,\"muted_glyph\":{\"id\":\"1048\"},\"nonselection_glyph\":{\"id\":\"1047\"},\"selection_glyph\":null,\"view\":{\"id\":\"1050\"}},\"id\":\"1049\",\"type\":\"GlyphRenderer\"},{\"attributes\":{\"children\":[[{\"id\":\"1009\"},0,0],[{\"id\":\"1187\"},1,0]]},\"id\":\"1204\",\"type\":\"GridBox\"},{\"attributes\":{},\"id\":\"1313\",\"type\":\"NumberEditor\"},{\"attributes\":{\"bottom\":{\"value\":0},\"fill_color\":{\"value\":\"#00fff0\"},\"left\":{\"field\":\"left\"},\"right\":{\"field\":\"right\"},\"top\":{\"field\":\"top\"}},\"id\":\"1046\",\"type\":\"Quad\"},{\"attributes\":{\"children\":[{\"id\":\"1002\"},{\"id\":\"1003\"},{\"id\":\"1386\"}],\"margin\":[0,0,0,0],\"name\":\"Row02878\"},\"id\":\"1001\",\"type\":\"Row\"},{\"attributes\":{},\"id\":\"1041\",\"type\":\"BasicTickFormatter\"},{\"attributes\":{},\"id\":\"1014\",\"type\":\"LinearScale\"},{\"attributes\":{},\"id\":\"1318\",\"type\":\"NumberEditor\"},{\"attributes\":{\"children\":[{\"id\":\"1208\"},{\"id\":\"1207\"}]},\"id\":\"1209\",\"type\":\"Column\"},{\"attributes\":{\"bottom_units\":\"screen\",\"fill_alpha\":0.5,\"fill_color\":\"lightgrey\",\"left_units\":\"screen\",\"level\":\"overlay\",\"line_alpha\":1.0,\"line_color\":\"black\",\"line_dash\":[4,4],\"line_width\":2,\"right_units\":\"screen\",\"top_units\":\"screen\"},\"id\":\"1031\",\"type\":\"BoxAnnotation\"},{\"attributes\":{\"format\":\"0,0.0[00000]\"},\"id\":\"1322\",\"type\":\"NumberFormatter\"},{\"attributes\":{},\"id\":\"1072\",\"type\":\"UnionRenderers\"},{\"attributes\":{\"toolbars\":[{\"id\":\"1032\"}],\"tools\":[{\"id\":\"1008\"},{\"id\":\"1026\"},{\"id\":\"1027\"},{\"id\":\"1028\"},{\"id\":\"1029\"},{\"id\":\"1030\"}]},\"id\":\"1205\",\"type\":\"ProxyToolbar\"},{\"attributes\":{\"children\":[{\"id\":\"1206\"},{\"id\":\"1204\"}]},\"id\":\"1207\",\"type\":\"Column\"},{\"attributes\":{\"format\":\"0,0.0[00000]\"},\"id\":\"1312\",\"type\":\"NumberFormatter\"},{\"attributes\":{\"end\":2.541893458761875,\"reset_end\":2.541893458761875,\"reset_start\":-2.8739269530958222,\"start\":-2.8739269530958222,\"tags\":[[[\"x\",\"x\",null]]]},\"id\":\"1006\",\"type\":\"Range1d\"},{\"attributes\":{\"end\":1518.03,\"reset_end\":1653.2999977947384,\"reset_start\":0.0,\"tags\":[[[\"Frequency\",\"Frequency\",null]]]},\"id\":\"1007\",\"type\":\"Range1d\"},{\"attributes\":{\"margin\":[5,5,5,5],\"name\":\"HSpacer02887\",\"sizing_mode\":\"stretch_width\"},\"id\":\"1002\",\"type\":\"Spacer\"},{\"attributes\":{\"children\":[{\"id\":\"1005\"},{\"id\":\"1209\"},{\"id\":\"1380\"}],\"margin\":[0,0,0,0],\"name\":\"Row02890\"},\"id\":\"1004\",\"type\":\"Row\"}],\"root_ids\":[\"1001\",\"1429\"]},\"title\":\"Bokeh Application\",\"version\":\"2.2.3\"}};\n",
       "  var render_items = [{\"docid\":\"a3a47ac2-f416-4b62-8cf5-73dd3807e542\",\"root_ids\":[\"1001\"],\"roots\":{\"1001\":\"d4a7d3dd-0ffe-421b-a175-288e4cc301df\"}}];\n",
       "  root.Bokeh.embed.embed_items_notebook(docs_json, render_items);\n",
       "  }\n",
       "if (root.Bokeh !== undefined) {\n",
       "    embed_document(root);\n",
       "  } else {\n",
       "    var attempts = 0;\n",
       "    var timer = setInterval(function(root) {\n",
       "      if (root.Bokeh !== undefined) {\n",
       "        clearInterval(timer);\n",
       "        embed_document(root);\n",
       "      } else if (document.readyState == \"complete\") {\n",
       "        attempts++;\n",
       "        if (attempts > 100) {\n",
       "          clearInterval(timer);\n",
       "          console.log(\"Bokeh: ERROR: Unable to run BokehJS code because BokehJS library is missing\");\n",
       "        }\n",
       "      }\n",
       "    }, 10, root)\n",
       "  }\n",
       "})(window);</script>"
      ],
      "text/plain": [
       ":DynamicMap   [col]\n",
       "   :Layout\n",
       "      .Overlay.I :Overlay\n",
       "         .Histogram.I    :Histogram   [x]   (Frequency)\n",
       "         .Distribution.I :Distribution   [num_housing_median_age]   (Density)\n",
       "      .Table.I   :Table   [count,mean,std,min,25%,50%,75%,max]"
      ]
     },
     "execution_count": 31,
     "metadata": {
      "application/vnd.holoviews_exec.v0+json": {
       "id": "1001"
      }
     },
     "output_type": "execute_result"
    }
   ],
   "source": [
    "out = eda.get_density_plots(train_X, cols=['num_housing_median_age',\n",
    "       'num_total_rooms', 'num_total_bedrooms', 'num_population',\n",
    "       'num_households', 'num_median_income', 'num_rooms_per_household',\n",
    "       'num_population_per_household', 'num_bedrooms_per_room'])\n",
    "out"
   ]
  },
  {
   "cell_type": "code",
   "execution_count": 32,
   "metadata": {},
   "outputs": [],
   "source": [
    "# save the plots are html\n",
    "reports.create_report({'univariate': out}, name='feature_analysis_univariate')"
   ]
  },
  {
   "cell_type": "markdown",
   "metadata": {},
   "source": [
    "A report containing the above plot is available [here](https://drive.google.com/file/d/1oqlhJ_GifdEXOT0mOqnGoOIwBt1e5jd2/view?usp=sharing)\n"
   ]
  },
  {
   "cell_type": "markdown",
   "metadata": {},
   "source": [
    "Alternatively, the above plots can be generated as a single html as below. The output from this is available [here](https://drive.google.com/file/d/1mWvPLC2eAEIfNqIYDKpWuAwP6kInkMbw/view?usp=sharing)"
   ]
  },
  {
   "cell_type": "code",
   "execution_count": 33,
   "metadata": {},
   "outputs": [
    {
     "name": "stderr",
     "output_type": "stream",
     "text": [
      "p-value may not be accurate for N > 5000.\n"
     ]
    }
   ],
   "source": [
    "reports.feature_analysis(train_X,'./feature_analysis_report.html')"
   ]
  },
  {
   "cell_type": "markdown",
   "metadata": {},
   "source": [
    "### 3.2.2 Bivariate - mutual interactions"
   ]
  },
  {
   "cell_type": "markdown",
   "metadata": {},
   "source": [
    "- Find columns with high correlations and drop them"
   ]
  },
  {
   "cell_type": "code",
   "execution_count": 34,
   "metadata": {},
   "outputs": [
    {
     "data": {
      "text/html": [
       "<div>\n",
       "<style scoped>\n",
       "    .dataframe tbody tr th:only-of-type {\n",
       "        vertical-align: middle;\n",
       "    }\n",
       "\n",
       "    .dataframe tbody tr th {\n",
       "        vertical-align: top;\n",
       "    }\n",
       "\n",
       "    .dataframe thead th {\n",
       "        text-align: right;\n",
       "    }\n",
       "</style>\n",
       "<table border=\"1\" class=\"dataframe\">\n",
       "  <thead>\n",
       "    <tr style=\"text-align: right;\">\n",
       "      <th></th>\n",
       "      <th>Variable 1</th>\n",
       "      <th>Variable 2</th>\n",
       "      <th>Corr Coef</th>\n",
       "      <th>Abs Corr Coef</th>\n",
       "    </tr>\n",
       "  </thead>\n",
       "  <tbody>\n",
       "    <tr>\n",
       "      <th>0</th>\n",
       "      <td>num_households</td>\n",
       "      <td>num_total_bedrooms</td>\n",
       "      <td>0.970478</td>\n",
       "      <td>0.970478</td>\n",
       "    </tr>\n",
       "    <tr>\n",
       "      <th>1</th>\n",
       "      <td>num_latitude</td>\n",
       "      <td>num_longitude</td>\n",
       "      <td>-0.924018</td>\n",
       "      <td>0.924018</td>\n",
       "    </tr>\n",
       "    <tr>\n",
       "      <th>2</th>\n",
       "      <td>num_total_bedrooms</td>\n",
       "      <td>num_total_rooms</td>\n",
       "      <td>0.918230</td>\n",
       "      <td>0.918230</td>\n",
       "    </tr>\n",
       "    <tr>\n",
       "      <th>3</th>\n",
       "      <td>num_households</td>\n",
       "      <td>num_total_rooms</td>\n",
       "      <td>0.911455</td>\n",
       "      <td>0.911455</td>\n",
       "    </tr>\n",
       "    <tr>\n",
       "      <th>4</th>\n",
       "      <td>num_households</td>\n",
       "      <td>num_population</td>\n",
       "      <td>0.907583</td>\n",
       "      <td>0.907583</td>\n",
       "    </tr>\n",
       "    <tr>\n",
       "      <th>5</th>\n",
       "      <td>num_population</td>\n",
       "      <td>num_total_bedrooms</td>\n",
       "      <td>0.869576</td>\n",
       "      <td>0.869576</td>\n",
       "    </tr>\n",
       "    <tr>\n",
       "      <th>6</th>\n",
       "      <td>num_population</td>\n",
       "      <td>num_total_rooms</td>\n",
       "      <td>0.840291</td>\n",
       "      <td>0.840291</td>\n",
       "    </tr>\n",
       "    <tr>\n",
       "      <th>7</th>\n",
       "      <td>num_bedrooms_per_room</td>\n",
       "      <td>num_median_income</td>\n",
       "      <td>-0.629107</td>\n",
       "      <td>0.629107</td>\n",
       "    </tr>\n",
       "    <tr>\n",
       "      <th>8</th>\n",
       "      <td>ocean_proximity_&lt;1H OCEAN</td>\n",
       "      <td>ocean_proximity_INLAND</td>\n",
       "      <td>-0.605845</td>\n",
       "      <td>0.605845</td>\n",
       "    </tr>\n",
       "  </tbody>\n",
       "</table>\n",
       "</div>"
      ],
      "text/plain": [
       "                  Variable 1              Variable 2  Corr Coef  Abs Corr Coef\n",
       "0             num_households      num_total_bedrooms   0.970478       0.970478\n",
       "1               num_latitude           num_longitude  -0.924018       0.924018\n",
       "2         num_total_bedrooms         num_total_rooms   0.918230       0.918230\n",
       "3             num_households         num_total_rooms   0.911455       0.911455\n",
       "4             num_households          num_population   0.907583       0.907583\n",
       "5             num_population      num_total_bedrooms   0.869576       0.869576\n",
       "6             num_population         num_total_rooms   0.840291       0.840291\n",
       "7      num_bedrooms_per_room       num_median_income  -0.629107       0.629107\n",
       "8  ocean_proximity_<1H OCEAN  ocean_proximity_INLAND  -0.605845       0.605845"
      ]
     },
     "execution_count": 34,
     "metadata": {},
     "output_type": "execute_result"
    }
   ],
   "source": [
    "out = eda.get_correlation_table(train_X)\n",
    "out[out[\"Abs Corr Coef\"] > 0.6]"
   ]
  },
  {
   "cell_type": "code",
   "execution_count": 35,
   "metadata": {},
   "outputs": [
    {
     "data": {
      "text/html": [
       "<div>\n",
       "<style scoped>\n",
       "    .dataframe tbody tr th:only-of-type {\n",
       "        vertical-align: middle;\n",
       "    }\n",
       "\n",
       "    .dataframe tbody tr th {\n",
       "        vertical-align: top;\n",
       "    }\n",
       "\n",
       "    .dataframe thead th {\n",
       "        text-align: right;\n",
       "    }\n",
       "</style>\n",
       "<table border=\"1\" class=\"dataframe\">\n",
       "  <thead>\n",
       "    <tr style=\"text-align: right;\">\n",
       "      <th></th>\n",
       "      <th>Variable 1</th>\n",
       "      <th>Variable 2</th>\n",
       "      <th>Corr Coef</th>\n",
       "      <th>Abs Corr Coef</th>\n",
       "    </tr>\n",
       "  </thead>\n",
       "  <tbody>\n",
       "    <tr>\n",
       "      <th>0</th>\n",
       "      <td>num_households</td>\n",
       "      <td>num_total_bedrooms</td>\n",
       "      <td>0.970478</td>\n",
       "      <td>0.970478</td>\n",
       "    </tr>\n",
       "    <tr>\n",
       "      <th>1</th>\n",
       "      <td>num_latitude</td>\n",
       "      <td>num_longitude</td>\n",
       "      <td>-0.924018</td>\n",
       "      <td>0.924018</td>\n",
       "    </tr>\n",
       "    <tr>\n",
       "      <th>2</th>\n",
       "      <td>num_total_bedrooms</td>\n",
       "      <td>num_total_rooms</td>\n",
       "      <td>0.918230</td>\n",
       "      <td>0.918230</td>\n",
       "    </tr>\n",
       "    <tr>\n",
       "      <th>3</th>\n",
       "      <td>num_households</td>\n",
       "      <td>num_total_rooms</td>\n",
       "      <td>0.911455</td>\n",
       "      <td>0.911455</td>\n",
       "    </tr>\n",
       "    <tr>\n",
       "      <th>4</th>\n",
       "      <td>num_households</td>\n",
       "      <td>num_population</td>\n",
       "      <td>0.907583</td>\n",
       "      <td>0.907583</td>\n",
       "    </tr>\n",
       "    <tr>\n",
       "      <th>5</th>\n",
       "      <td>num_population</td>\n",
       "      <td>num_total_bedrooms</td>\n",
       "      <td>0.869576</td>\n",
       "      <td>0.869576</td>\n",
       "    </tr>\n",
       "    <tr>\n",
       "      <th>6</th>\n",
       "      <td>num_population</td>\n",
       "      <td>num_total_rooms</td>\n",
       "      <td>0.840291</td>\n",
       "      <td>0.840291</td>\n",
       "    </tr>\n",
       "    <tr>\n",
       "      <th>7</th>\n",
       "      <td>num_bedrooms_per_room</td>\n",
       "      <td>num_median_income</td>\n",
       "      <td>-0.629107</td>\n",
       "      <td>0.629107</td>\n",
       "    </tr>\n",
       "  </tbody>\n",
       "</table>\n",
       "</div>"
      ],
      "text/plain": [
       "              Variable 1          Variable 2  Corr Coef  Abs Corr Coef\n",
       "0         num_households  num_total_bedrooms   0.970478       0.970478\n",
       "1           num_latitude       num_longitude  -0.924018       0.924018\n",
       "2     num_total_bedrooms     num_total_rooms   0.918230       0.918230\n",
       "3         num_households     num_total_rooms   0.911455       0.911455\n",
       "4         num_households      num_population   0.907583       0.907583\n",
       "5         num_population  num_total_bedrooms   0.869576       0.869576\n",
       "6         num_population     num_total_rooms   0.840291       0.840291\n",
       "7  num_bedrooms_per_room   num_median_income  -0.629107       0.629107"
      ]
     },
     "execution_count": 35,
     "metadata": {},
     "output_type": "execute_result"
    }
   ],
   "source": [
    "# channel and source_channel highly correlated. So discarding source_channel\n",
    "# brand and manufacturer are almost same so discarding manufacturer.\n",
    "# Similarly keeping sku between inventory and sku\n",
    "# Similarly keeping condition between conditions and ext_grade\n",
    "# Similarly keeping model_family between platforms, ext_model_family and model_family\n",
    "# Discarding selling price & selling cost as they are multiples of unit price/cost & quantity.\n",
    "# Discarding gp as it is the of selling price and selling cost\n",
    "# order_no, line, invoice_no & customername cannot be IDVs\n",
    "curated_columns = list(\n",
    "    set(train_X.columns.to_list()) \n",
    "    - set(['num_population_per_household',\n",
    "        'ocean_proximity_NEAR OCEAN',  \n",
    "       'num_rooms_per_household', 'ocean_proximity_INLAND',\n",
    "       'ocean_proximity_ISLAND', 'ocean_proximity_NEAR BAY',\n",
    "       'ocean_proximity_<1H OCEAN'])\n",
    ")\n",
    "\n",
    "train_X = train_X[curated_columns]\n",
    "\n",
    "out = eda.get_correlation_table(train_X)\n",
    "out[out[\"Abs Corr Coef\"] > 0.6]"
   ]
  },
  {
   "cell_type": "code",
   "execution_count": 36,
   "metadata": {},
   "outputs": [
    {
     "data": {
      "text/plain": [
       "Index(['num_bedrooms_per_room', 'num_total_rooms', 'num_median_income',\n",
       "       'num_total_bedrooms', 'num_longitude', 'num_latitude',\n",
       "       'num_housing_median_age', 'num_population', 'num_households'],\n",
       "      dtype='object')"
      ]
     },
     "execution_count": 36,
     "metadata": {},
     "output_type": "execute_result"
    }
   ],
   "source": [
    "train_X.columns"
   ]
  },
  {
   "cell_type": "code",
   "execution_count": 37,
   "metadata": {},
   "outputs": [
    {
     "data": {},
     "metadata": {},
     "output_type": "display_data"
    },
    {
     "data": {
      "application/vnd.holoviews_exec.v0+json": "",
      "text/html": [
       "<div id='14676'>\n",
       "\n",
       "\n",
       "\n",
       "\n",
       "\n",
       "  <div class=\"bk-root\" id=\"ae771544-0f4f-4616-abf8-7a00c134c672\" data-root-id=\"14676\"></div>\n",
       "</div>\n",
       "<script type=\"application/javascript\">(function(root) {\n",
       "  function embed_document(root) {\n",
       "  var docs_json = {\"39be0bf3-4e16-4dec-8557-873ce3b8b7f9\":{\"roots\":{\"references\":[{\"attributes\":{\"axis_label\":\"num_households\",\"bounds\":\"auto\",\"formatter\":{\"id\":\"14711\"},\"major_label_orientation\":\"horizontal\",\"ticker\":{\"id\":\"14691\"}},\"id\":\"14690\",\"type\":\"LinearAxis\"},{\"attributes\":{\"callback\":null,\"renderers\":[{\"id\":\"14722\"}],\"tags\":[\"hv_created\"],\"tooltips\":[[\"Count\",\"@{Count}\"]]},\"id\":\"14680\",\"type\":\"HoverTool\"},{\"attributes\":{\"children\":[{\"id\":\"14677\"},{\"id\":\"14681\"},{\"id\":\"14808\"}],\"margin\":[0,0,0,0],\"name\":\"Row34396\",\"tags\":[\"embedded\"]},\"id\":\"14676\",\"type\":\"Row\"},{\"attributes\":{},\"id\":\"14702\",\"type\":\"ResetTool\"},{\"attributes\":{\"aspect_scale\":1.0040650893700598,\"fill_alpha\":{\"value\":0.2},\"fill_color\":{\"field\":\"Count\",\"transform\":{\"id\":\"14715\"}},\"line_alpha\":{\"value\":0.2},\"line_color\":{\"field\":\"Count\",\"transform\":{\"id\":\"14715\"}},\"q\":{\"field\":\"q\"},\"r\":{\"field\":\"r\"},\"size\":0.06927422189887124},\"id\":\"14721\",\"type\":\"HexTile\"},{\"attributes\":{\"bar_line_color\":\"black\",\"color_mapper\":{\"id\":\"14715\"},\"formatter\":{\"id\":\"14732\"},\"label_standoff\":8,\"location\":[0,0],\"major_tick_line_color\":\"black\",\"ticker\":{\"id\":\"14724\"}},\"id\":\"14725\",\"type\":\"ColorBar\"},{\"attributes\":{\"axis\":{\"id\":\"14694\"},\"dimension\":1,\"grid_line_color\":null,\"ticker\":null},\"id\":\"14697\",\"type\":\"Grid\"},{\"attributes\":{\"source\":{\"id\":\"14716\"}},\"id\":\"14723\",\"type\":\"CDSView\"},{\"attributes\":{\"text\":\"Correlation: 0.97\",\"text_color\":{\"value\":\"black\"},\"text_font_size\":{\"value\":\"12pt\"}},\"id\":\"14682\",\"type\":\"Title\"},{\"attributes\":{\"high\":614,\"low\":1,\"palette\":[\"#b3fef5\",\"#b0fef5\",\"#adfdf5\",\"#a9fcf5\",\"#a6fbf6\",\"#a3faf6\",\"#a0faf6\",\"#9df9f6\",\"#9af8f6\",\"#97f7f6\",\"#93f7f6\",\"#90f6f6\",\"#8df5f6\",\"#8af4f7\",\"#87f3f7\",\"#83f2f7\",\"#80f2f7\",\"#7df1f7\",\"#79f0f7\",\"#76eff7\",\"#73eef7\",\"#6fedf8\",\"#6cecf8\",\"#68ecf8\",\"#65ebf8\",\"#61eaf8\",\"#5ee9f8\",\"#5ae8f8\",\"#57e7f8\",\"#53e6f8\",\"#50e5f9\",\"#4ce4f9\",\"#49e3f9\",\"#45e2f9\",\"#42e1f9\",\"#3ee0f9\",\"#3bdff9\",\"#38def9\",\"#35ddf9\",\"#32dcf9\",\"#30dbfa\",\"#2ed9fa\",\"#2dd8fa\",\"#2cd7fa\",\"#2bd6fa\",\"#2bd5fa\",\"#2ad3fa\",\"#2ad2fa\",\"#29d1fa\",\"#29d0fb\",\"#29cffb\",\"#28cdfb\",\"#28ccfb\",\"#28cbfb\",\"#28cafb\",\"#28c8fb\",\"#28c7fb\",\"#29c6fb\",\"#29c5fb\",\"#29c4fb\",\"#29c2fb\",\"#2ac1fb\",\"#2ac0fb\",\"#2bbffb\",\"#2bbdfc\",\"#2cbcfc\",\"#2dbbfc\",\"#2db9fc\",\"#2eb8fc\",\"#2fb7fc\",\"#2fb6fc\",\"#30b4fc\",\"#31b3fc\",\"#32b2fc\",\"#32b0fc\",\"#33affc\",\"#33aefc\",\"#34adfc\",\"#34abfc\",\"#34aafc\",\"#35a9fc\",\"#35a8fc\",\"#35a6fc\",\"#35a5fc\",\"#35a4fc\",\"#35a3fc\",\"#35a1fc\",\"#35a0fc\",\"#359ffc\",\"#359dfc\",\"#359cfc\",\"#359bfc\",\"#349afd\",\"#3498fd\",\"#3497fd\",\"#3396fd\",\"#3395fd\",\"#3293fd\",\"#3292fd\",\"#3191fd\",\"#3090fd\",\"#308ffd\",\"#2f8dfd\",\"#2f8cfd\",\"#2e8bfd\",\"#2e8afd\",\"#2d88fd\",\"#2d87fd\",\"#2c86fd\",\"#2c84fd\",\"#2c83fd\",\"#2c82fd\",\"#2b81fd\",\"#2b7ffd\",\"#2b7efd\",\"#2b7dfd\",\"#2b7bfd\",\"#2b7afd\",\"#2b79fd\",\"#2b77fd\",\"#2b76fd\",\"#2b75fd\",\"#2b73fd\",\"#2c72fd\",\"#2c71fd\",\"#2c6ffd\",\"#2c6efd\",\"#2d6cfd\",\"#2d6bfd\",\"#2d6afc\",\"#2e68fc\",\"#2e67fc\",\"#2e65fc\",\"#2e64fc\",\"#2f62fc\",\"#2f61fc\",\"#2f5ffc\",\"#2f5efc\",\"#2f5dfc\",\"#2f5bfc\",\"#2f5afc\",\"#2f58fb\",\"#2f57fb\",\"#2f55fb\",\"#2f53fb\",\"#2f52fb\",\"#2f50fb\",\"#2f4ffb\",\"#2f4dfb\",\"#2e4cfb\",\"#2e4afb\",\"#2e48fb\",\"#2e47fa\",\"#2d45fa\",\"#2d43fa\",\"#2d42fa\",\"#2d40fa\",\"#2c3efa\",\"#2c3dfa\",\"#2b3bf9\",\"#2b39f9\",\"#2a37f9\",\"#2a36f8\",\"#2934f8\",\"#2832f7\",\"#2831f7\",\"#272ff6\",\"#262ef5\",\"#252cf5\",\"#252af4\",\"#2429f3\",\"#2327f2\",\"#2226f1\",\"#2124f0\",\"#2023ef\",\"#1f22ee\",\"#1e20ed\",\"#1d1feb\",\"#1c1eea\",\"#1b1ce9\",\"#1a1be7\",\"#181ae6\",\"#1719e5\",\"#1618e3\",\"#1417e1\",\"#1316e0\",\"#1215de\",\"#1014dc\",\"#0f13db\",\"#0e12d9\",\"#0d11d7\",\"#0c10d5\",\"#0b0fd3\",\"#0a0ed1\",\"#090dd0\",\"#080dce\",\"#080ccc\",\"#070bca\",\"#070ac8\",\"#0709c6\",\"#0708c4\",\"#0707c2\",\"#0707bf\",\"#0806bd\",\"#0806bb\",\"#0905b9\",\"#0904b7\",\"#0a04b5\",\"#0a04b2\",\"#0b03b0\",\"#0c03ae\",\"#0d02ab\",\"#0e02a9\",\"#0e02a7\",\"#0f02a4\",\"#0f01a2\",\"#1001a0\",\"#10019d\",\"#10019b\",\"#100199\",\"#100197\",\"#100194\",\"#0f0192\",\"#0f0190\",\"#0f018e\",\"#0e018b\",\"#0e0189\",\"#0d0187\",\"#0d0185\",\"#0c0183\",\"#0b0181\",\"#0b017e\",\"#0a017c\",\"#09017a\",\"#090178\",\"#080276\",\"#070274\",\"#060272\",\"#060270\",\"#05026e\",\"#04026c\",\"#030269\",\"#030267\",\"#020265\",\"#010263\",\"#010261\",\"#00025f\",\"#00025d\",\"#00025b\",\"#000259\",\"#000257\",\"#000255\",\"#000154\",\"#000152\",\"#000150\",\"#00004e\"]},\"id\":\"14715\",\"type\":\"LinearColorMapper\"},{\"attributes\":{},\"id\":\"14700\",\"type\":\"WheelZoomTool\"},{\"attributes\":{\"margin\":[5,5,5,5],\"name\":\"HSpacer34401\",\"sizing_mode\":\"stretch_width\"},\"id\":\"14808\",\"type\":\"Spacer\"},{\"attributes\":{\"data_source\":{\"id\":\"14716\"},\"glyph\":{\"id\":\"14719\"},\"hover_glyph\":null,\"muted_glyph\":{\"id\":\"14721\"},\"nonselection_glyph\":{\"id\":\"14720\"},\"selection_glyph\":null,\"view\":{\"id\":\"14723\"}},\"id\":\"14722\",\"type\":\"GlyphRenderer\"},{\"attributes\":{\"axis\":{\"id\":\"14690\"},\"grid_line_color\":null,\"ticker\":null},\"id\":\"14693\",\"type\":\"Grid\"},{\"attributes\":{},\"id\":\"14699\",\"type\":\"PanTool\"},{\"attributes\":{},\"id\":\"14695\",\"type\":\"BasicTicker\"},{\"attributes\":{\"axis_label\":\"num_total_bedrooms\",\"bounds\":\"auto\",\"formatter\":{\"id\":\"14713\"},\"major_label_orientation\":\"horizontal\",\"ticker\":{\"id\":\"14695\"}},\"id\":\"14694\",\"type\":\"LinearAxis\"},{\"attributes\":{\"aspect_scale\":1.0040650893700598,\"fill_color\":{\"field\":\"Count\",\"transform\":{\"id\":\"14715\"}},\"line_color\":{\"field\":\"Count\",\"transform\":{\"id\":\"14715\"}},\"q\":{\"field\":\"q\"},\"r\":{\"field\":\"r\"},\"size\":0.06927422189887124},\"id\":\"14719\",\"type\":\"HexTile\"},{\"attributes\":{\"end\":4.206428855142171,\"reset_end\":4.206428855142171,\"reset_start\":-2.028251115756241,\"start\":-2.028251115756241,\"tags\":[[[\"num_total_bedrooms\",\"num_total_bedrooms\",null]]]},\"id\":\"14679\",\"type\":\"Range1d\"},{\"attributes\":{\"margin\":[5,5,5,5],\"name\":\"HSpacer34400\",\"sizing_mode\":\"stretch_width\"},\"id\":\"14677\",\"type\":\"Spacer\"},{\"attributes\":{},\"id\":\"14735\",\"type\":\"UnionRenderers\"},{\"attributes\":{},\"id\":\"14713\",\"type\":\"BasicTickFormatter\"},{\"attributes\":{\"overlay\":{\"id\":\"14703\"}},\"id\":\"14701\",\"type\":\"BoxZoomTool\"},{\"attributes\":{},\"id\":\"14698\",\"type\":\"SaveTool\"},{\"attributes\":{},\"id\":\"14686\",\"type\":\"LinearScale\"},{\"attributes\":{\"active_drag\":\"auto\",\"active_inspect\":\"auto\",\"active_multi\":null,\"active_scroll\":\"auto\",\"active_tap\":\"auto\",\"tools\":[{\"id\":\"14680\"},{\"id\":\"14698\"},{\"id\":\"14699\"},{\"id\":\"14700\"},{\"id\":\"14701\"},{\"id\":\"14702\"}]},\"id\":\"14704\",\"type\":\"Toolbar\"},{\"attributes\":{\"end\":3.8986144098462914,\"reset_end\":3.8986144098462914,\"reset_start\":-1.793370469582678,\"start\":-1.793370469582678,\"tags\":[[[\"num_households\",\"num_households\",null]]]},\"id\":\"14678\",\"type\":\"Range1d\"},{\"attributes\":{\"bottom_units\":\"screen\",\"fill_alpha\":0.5,\"fill_color\":\"lightgrey\",\"left_units\":\"screen\",\"level\":\"overlay\",\"line_alpha\":1.0,\"line_color\":\"black\",\"line_dash\":[4,4],\"line_width\":2,\"right_units\":\"screen\",\"top_units\":\"screen\"},\"id\":\"14703\",\"type\":\"BoxAnnotation\"},{\"attributes\":{\"align\":null,\"below\":[{\"id\":\"14690\"}],\"center\":[{\"id\":\"14693\"},{\"id\":\"14697\"}],\"left\":[{\"id\":\"14694\"}],\"margin\":null,\"min_border_bottom\":10,\"min_border_left\":10,\"min_border_right\":10,\"min_border_top\":10,\"plot_height\":300,\"renderers\":[{\"id\":\"14722\"}],\"right\":[{\"id\":\"14725\"}],\"sizing_mode\":\"fixed\",\"title\":{\"id\":\"14682\"},\"toolbar\":{\"id\":\"14704\"},\"x_range\":{\"id\":\"14678\"},\"x_scale\":{\"id\":\"14686\"},\"y_range\":{\"id\":\"14679\"},\"y_scale\":{\"id\":\"14688\"}},\"id\":\"14681\",\"subtype\":\"Figure\",\"type\":\"Plot\"},{\"attributes\":{\"data\":{\"Count\":[614,159,171,542,265,383,23,70,14,232,8,489,275,533,560,5,19,31,34,67,537,24,68,103,271,212,26,63,246,367,9,186,4,12,131,245,66,195,70,434,397,246,149,134,12,3,41,15,50,298,115,306,44,12,73,125,18,80,29,107,31,2,15,207,169,41,5,8,7,92,5,240,354,1,389,1,75,24,97,17,8,68,15,49,26,10,16,15,65,9,32,40,99,13,20,117,10,20,142,144,27,42,23,9,42,27,193,186,178,1,64,3,25,1,73,4,82,11,59,19,5,2,3,6,101,7,1,11,34,20,1,15,51,14,4,11,22,16,16,73,19,7,1,17,20,4,11,15,17,2,8,1,83,5,19,5,30,5,20,7,19,28,6,9,1,2,113,44,10,5,4,9,3,6,28,29,10,10,15,1,13,4,41,21,58,2,8,14,41,24,6,17,8,6,1,3,4,3,44,20,2,5,10,40,5,5,2,47,8,1,5,46,1,3,7,4,3,20,4,50,3,12,1,40,4,23,1,5,1,3,5,7,4,5,19,4,2,17,7,1,9,2,1,2,7,3,1,11,10,7,2,7,6,15,3,6,9,9,1,4,6,2,9,9,4,8,2,1,9,11,5,5,2,1,3,1,8,2,5,1,20,3,1,5,2,3,4,1,5,2,3,2,3,2,3,7,3,1,6,5,7,3,2,2,10,4,3,5,2,2,2,5,2,2,7,1,3,1,2,5,6,7,5,2,2,1,1,5,5,3,1,4,3,5,2,2,16,5,5,6,2,1,2,1,1,2,1,6,9,5,1,7,1,1,1,10,4,3,1,2,5,1,3,2,15,2,4,2,1,4,4,2,3,3,7,7,4,1,2,1,1,2,1,2,1,2,5,3,1,1,2,2,1,3,5,3,5,1,3,1,2,1,1,3,6,2,2,1,3,1,4,1,2,3,1,1,3,1,3,3,1,1,1,1,1,1,3,1,1,3,1,1,3,2,2,2,4,3,1,1,1,1,1,1,1,1,2,1,1,3,6,2,2,1,2,2,7,1,2,1,2,1,1,1,3,1,1,1,1,1,2,2,3,2,1,1,1,1,1,1,5,1,2,2,1,1,1,1,1,1,1,1,1,3,1,1,1,1,1,1,1,2,2,2,1,1,2,1,1,2,1,1,1,1,1,2,1,1,1,1,1,1,2,2,2,1,1,1,1,1,1,1,1,2,1,1,1,1,1,2,1,1,2,1,2,1,1,1,1,1,1,1,1,1,1,1,1,1,1,1,1,1,1,1,1,1,1,1,1,1,1,1,1,1,1,1,1,1,1,1,1,1,1,1,1,1],\"q\":[-8,-5,-13,-5,2,-10,-15,7,1,1,-3,-11,-3,-7,-9,34,17,23,-5,12,-4,1,14,-1,48,-2,18,3,-14,-2,36,5,6,16,-4,-10,-16,1,-12,-6,-1,3,0,4,10,2,-11,24,7,0,2,-6,19,-11,12,9,12,-1,18,-17,4,13,-12,-15,4,6,4,0,33,8,45,-9,-3,25,-12,36,13,22,8,17,42,11,-8,15,22,47,21,15,6,23,-6,-14,-19,31,20,10,-6,-5,7,-18,11,10,13,20,13,19,-7,-13,6,29,-20,14,-3,0,3,36,-8,-6,9,-9,-9,18,47,4,-16,-20,36,-13,14,14,9,30,10,25,-12,18,5,29,-1,-4,25,-10,27,27,-2,-12,1,-14,16,-2,37,17,11,0,27,41,26,23,-2,35,26,8,17,2,43,19,5,16,41,13,-12,8,-10,8,5,21,21,3,9,38,12,18,-7,24,0,5,7,34,17,20,35,23,39,28,4,37,1,-13,-11,32,9,38,15,16,30,-17,-4,-8,35,-3,29,20,25,-15,19,13,44,-4,2,15,-15,28,34,2,-13,9,28,32,16,27,12,45,31,10,30,44,19,-17,14,-4,39,26,9,-7,22,42,39,-7,41,33,14,29,7,31,-6,26,24,25,41,39,4,24,29,33,2,-1,-16,20,-10,24,39,0,15,13,17,4,-8,-13,11,0,-10,40,1,25,4,-18,-3,-2,43,-4,33,-16,-14,11,19,47,-13,10,28,27,19,35,-16,29,6,-9,33,36,2,10,6,46,-10,-3,31,0,-8,-3,38,23,11,0,48,-12,10,2,27,-3,-18,-1,1,6,7,-10,11,7,-19,-1,26,43,1,43,13,11,36,35,-4,-11,22,21,-4,-8,10,11,40,40,46,43,26,7,46,22,20,40,-7,4,-11,-3,34,-5,-6,44,-11,34,21,38,7,-10,4,35,18,7,-2,-14,0,32,28,-11,18,22,14,2,19,-8,30,-9,40,0,44,-8,1,5,12,2,-5,-10,-4,7,-4,24,45,9,42,-16,24,4,6,-2,38,44,10,25,17,22,-9,5,19,29,12,46,-14,14,3,-7,5,43,-9,3,13,37,8,23,15,-4,17,3,36,41,13,-15,-6,13,-1,16,16,32,32,29,25,3,-7,23,3,20,-2,14,15,28,-2,30,-13,-12,5,8,-8,9,23,-15,31,3,42,13,38,18,5,-6,9,42,10,34,-19,37,-1,37,8,-3,5,5,24,20,20,37,-12,3,25,11,46,33,5,-11,-5,41,-7,8,-2,3,12,20,25,36,38,28,8,39,31,6,9,45,-14,38,0,-3,45,43,9,27,27,-3,22,17,14,42,22,32,23,30,8,23,26,9,5,3,-8,28,-17,-3,39,23,-5,7,20,17,12,-12,-9,41,30,-9,24,37,35,27,25,18,28,-7,30,5,4,18,29,21,13,-5,-1,30],\"r\":[6,3,9,4,-1,7,10,-4,1,0,0,8,3,5,7,-25,-13,-16,5,-9,3,-2,-10,0,-35,1,-12,-3,10,2,-25,-3,-8,-13,4,8,11,-1,8,5,1,-2,1,-2,-9,-9,7,-18,-6,0,-2,4,-13,6,-8,-6,-7,2,-13,12,-4,-7,7,11,-3,-3,-1,-2,-24,-6,-32,6,2,2,9,-23,-9,-16,-5,-11,-29,-7,4,-10,-15,-33,-14,-12,-5,-15,3,11,14,-22,-13,-7,6,2,-5,13,-9,-6,-8,-16,-10,-14,6,10,-4,3,14,-8,1,-4,-1,-26,5,2,-7,5,3,2,-35,-5,12,15,-35,8,-9,-11,-25,-22,-8,-17,3,-14,-2,-21,-1,2,-18,2,-24,-19,3,5,-3,9,-10,-4,-26,-10,-8,3,-20,-28,-18,-18,0,-26,-19,-7,-14,-3,-36,-19,-4,-11,-29,-12,6,-4,-1,-8,-5,-15,-16,-4,-8,-25,-10,-15,4,-17,-1,-11,-7,-24,-12,-15,-24,-17,-27,-21,-6,-27,-4,3,9,-23,-9,-29,-9,-12,-23,11,-3,7,-25,-6,-19,-14,-21,8,-12,-11,-32,1,2,-11,7,-20,-36,0,7,-5,-25,-22,-16,-21,-11,-31,-24,-5,-21,-31,3,13,-12,-4,-28,-21,-24,-4,-14,-31,-36,2,-30,-25,-14,-20,-3,-21,-1,-20,-19,-19,-27,-29,2,-20,-22,-23,3,3,9,-21,5,-16,-30,-3,-14,-25,-15,-13,3,4,-6,-6,6,-29,3,-16,-12,11,-2,-5,-31,-5,-22,10,8,-11,-17,-34,5,-21,-19,-18,-15,-27,8,-24,-6,2,-26,-27,-7,-10,2,-35,4,4,-23,-7,1,-7,-35,-19,-10,2,-36,4,2,-15,-35,-1,12,-3,-21,-7,-9,3,3,2,13,-2,-17,-30,-5,-35,-21,-18,-36,-28,-1,3,-17,-17,-6,2,-14,-12,-33,-28,-33,-32,-22,3,-34,-33,-17,-35,3,-7,2,-4,-28,0,1,-35,4,-26,-13,-28,-8,-3,-10,-30,-27,-20,-3,4,-11,-25,-22,5,-35,-30,-15,-5,-20,-2,-20,4,-27,-10,-30,-3,2,2,-24,-4,1,9,5,-11,0,-15,-33,-12,-34,7,2,-9,3,-7,-26,-33,-11,-22,-18,-31,-1,-15,-16,-35,-13,-32,3,3,0,-5,-12,-34,8,-5,-28,-24,-29,-25,-13,-2,-35,2,-24,-31,-14,9,0,2,-14,-15,-14,-26,-24,-18,3,3,0,-35,-14,-36,-2,-25,2,-23,-8,-25,6,2,-7,-28,-4,-21,3,12,-26,-9,-30,-31,-27,-11,3,-3,-17,-32,3,-23,12,-29,-6,-25,3,-12,-9,-8,-21,-18,2,-28,10,-7,-20,-13,-31,-27,-22,1,-2,-35,-1,-9,-1,-6,3,-12,-24,-29,-36,-24,-10,-33,-35,-2,-4,-36,6,-31,-14,-10,-35,-33,-20,-28,2,-8,-20,-17,-32,-33,-18,-27,-14,-26,-15,-24,-25,2,-20,-17,0,-18,10,-3,-35,-20,-5,-10,-22,3,-26,0,0,-32,-28,-2,-33,-30,-35,-31,-27,-31,-28,-6,-24,-1,3,-24,-26,-18,-15,-1,-4,-19]},\"selected\":{\"id\":\"14717\"},\"selection_policy\":{\"id\":\"14735\"}},\"id\":\"14716\",\"type\":\"ColumnDataSource\"},{\"attributes\":{},\"id\":\"14688\",\"type\":\"LinearScale\"},{\"attributes\":{},\"id\":\"14691\",\"type\":\"BasicTicker\"},{\"attributes\":{},\"id\":\"14711\",\"type\":\"BasicTickFormatter\"},{\"attributes\":{},\"id\":\"14724\",\"type\":\"BasicTicker\"},{\"attributes\":{},\"id\":\"14717\",\"type\":\"Selection\"},{\"attributes\":{\"aspect_scale\":1.0040650893700598,\"fill_alpha\":{\"value\":0.1},\"fill_color\":{\"field\":\"Count\",\"transform\":{\"id\":\"14715\"}},\"line_alpha\":{\"value\":0.1},\"line_color\":{\"field\":\"Count\",\"transform\":{\"id\":\"14715\"}},\"q\":{\"field\":\"q\"},\"r\":{\"field\":\"r\"},\"size\":0.06927422189887124},\"id\":\"14720\",\"type\":\"HexTile\"},{\"attributes\":{},\"id\":\"14732\",\"type\":\"BasicTickFormatter\"}],\"root_ids\":[\"14676\"]},\"title\":\"Bokeh Application\",\"version\":\"2.2.3\"}};\n",
       "  var render_items = [{\"docid\":\"39be0bf3-4e16-4dec-8557-873ce3b8b7f9\",\"root_ids\":[\"14676\"],\"roots\":{\"14676\":\"ae771544-0f4f-4616-abf8-7a00c134c672\"}}];\n",
       "  root.Bokeh.embed.embed_items_notebook(docs_json, render_items);\n",
       "  }\n",
       "if (root.Bokeh !== undefined) {\n",
       "    embed_document(root);\n",
       "  } else {\n",
       "    var attempts = 0;\n",
       "    var timer = setInterval(function(root) {\n",
       "      if (root.Bokeh !== undefined) {\n",
       "        clearInterval(timer);\n",
       "        embed_document(root);\n",
       "      } else if (document.readyState == \"complete\") {\n",
       "        attempts++;\n",
       "        if (attempts > 100) {\n",
       "          clearInterval(timer);\n",
       "          console.log(\"Bokeh: ERROR: Unable to run BokehJS code because BokehJS library is missing\");\n",
       "        }\n",
       "      }\n",
       "    }, 10, root)\n",
       "  }\n",
       "})(window);</script>"
      ],
      "text/plain": [
       ":HexTiles   [num_households,num_total_bedrooms]"
      ]
     },
     "execution_count": 37,
     "metadata": {
      "application/vnd.holoviews_exec.v0+json": {
       "id": "14676"
      }
     },
     "output_type": "execute_result"
    }
   ],
   "source": [
    "out = eda.get_bivariate_plots(train_X, x_cols=['num_households'], \n",
    "                              y_cols=['num_total_bedrooms'])\n",
    "out"
   ]
  },
  {
   "cell_type": "code",
   "execution_count": 38,
   "metadata": {},
   "outputs": [
    {
     "name": "stdout",
     "output_type": "stream",
     "text": [
      "CPU times: user 5.92 s, sys: 28.5 ms, total: 5.95 s\n",
      "Wall time: 5.94 s\n"
     ]
    }
   ],
   "source": [
    "%%time\n",
    "# create reports as needed\n",
    "cols = train_X.columns.to_list()\n",
    "all_plots = {}\n",
    "for ii, col1 in enumerate(cols): \n",
    "    for jj in range(ii+1, len(cols)):\n",
    "        col2 = cols[jj]\n",
    "        out = eda.get_bivariate_plots(train_X, x_cols=[col1], y_cols=[col2])\n",
    "        all_plots.update({f'{col2} vs {col1}': out})\n",
    "\n",
    "reports.create_report(all_plots, name='feature_analysis_bivariate')"
   ]
  },
  {
   "cell_type": "markdown",
   "metadata": {},
   "source": [
    "A report containing the bivariate plot is available [here](https://drive.google.com/file/d/1S3JXE1TTwuALugqL5I4zsRpjYy9vIXZy/view?usp=sharing)\n",
    "\n",
    "Alternatively, the above plots can be generated as a single html as below. The output from this is available [here](https://drive.google.com/file/d/12o2Q7O6q2Zck0cHBQ36WDeWuy7b4athM/view?usp=sharing)"
   ]
  },
  {
   "cell_type": "code",
   "execution_count": 39,
   "metadata": {},
   "outputs": [],
   "source": [
    "reports.feature_interactions(train_X,'./feature_interaction_report.html')"
   ]
  },
  {
   "cell_type": "markdown",
   "metadata": {},
   "source": [
    "### 3.2.3 Key Drivers - Interaction with Target variable"
   ]
  },
  {
   "cell_type": "code",
   "execution_count": 40,
   "metadata": {},
   "outputs": [
    {
     "data": {},
     "metadata": {},
     "output_type": "display_data"
    },
    {
     "data": {},
     "metadata": {},
     "output_type": "display_data"
    },
    {
     "data": {
      "application/vnd.holoviews_exec.v0+json": "",
      "text/html": [
       "<div id='25973'>\n",
       "\n",
       "\n",
       "\n",
       "\n",
       "\n",
       "  <div class=\"bk-root\" id=\"b20b4986-b025-4103-b624-c46f5793b0b6\" data-root-id=\"25973\"></div>\n",
       "</div>\n",
       "<script type=\"application/javascript\">(function(root) {\n",
       "  function embed_document(root) {\n",
       "  var docs_json = {\"3d20d1c0-fbcb-41b4-8791-b89dc673c380\":{\"roots\":{\"references\":[{\"attributes\":{},\"id\":\"25984\",\"type\":\"CategoricalScale\"},{\"attributes\":{\"axis\":{\"id\":\"26047\"},\"grid_line_color\":null,\"ticker\":null},\"id\":\"26050\",\"type\":\"Grid\"},{\"attributes\":{\"data_source\":{\"id\":\"26067\"},\"glyph\":{\"id\":\"26070\"},\"hover_glyph\":null,\"muted_glyph\":{\"id\":\"26072\"},\"nonselection_glyph\":{\"id\":\"26071\"},\"selection_glyph\":null,\"view\":{\"id\":\"26074\"}},\"id\":\"26073\",\"type\":\"GlyphRenderer\"},{\"attributes\":{\"callback\":null,\"renderers\":[{\"id\":\"26073\"}],\"tags\":[\"hv_created\"],\"tooltips\":[[\"index\",\"@{index}\"],[\"Mutual_information_with_Target\",\"@{Mutual_information_with_Target}\"]]},\"id\":\"26037\",\"type\":\"HoverTool\"},{\"attributes\":{},\"id\":\"26025\",\"type\":\"UnionRenderers\"},{\"attributes\":{},\"id\":\"25994\",\"type\":\"PanTool\"},{\"attributes\":{\"overlay\":{\"id\":\"25998\"}},\"id\":\"25996\",\"type\":\"BoxZoomTool\"},{\"attributes\":{},\"id\":\"26014\",\"type\":\"BasicTickFormatter\"},{\"attributes\":{},\"id\":\"26054\",\"type\":\"SaveTool\"},{\"attributes\":{},\"id\":\"26045\",\"type\":\"CategoricalScale\"},{\"attributes\":{\"data\":{\"Mutual_information_with_Target\":{\"__ndarray__\":\"AAtg+PGsqD8Ai5+9omGsPwBbzx2Fya0/gIoXqaI0sD+AjHkjEIi3P4CQlQeIFsA/wPlYi4+qwT8A+EGH+ObIP+CxSVcZ1No/\",\"dtype\":\"float64\",\"order\":\"little\",\"shape\":[9]},\"index\":[\"num_housing_median_age\",\"num_total_bedrooms\",\"num_households\",\"num_population\",\"num_total_rooms\",\"num_latitude\",\"num_longitude\",\"num_bedrooms_per_room\",\"num_median_income\"]},\"selected\":{\"id\":\"26068\"},\"selection_policy\":{\"id\":\"26086\"}},\"id\":\"26067\",\"type\":\"ColumnDataSource\"},{\"attributes\":{},\"id\":\"25997\",\"type\":\"ResetTool\"},{\"attributes\":{},\"id\":\"26077\",\"type\":\"CategoricalTickFormatter\"},{\"attributes\":{\"end\":0.7897091779377304,\"reset_end\":0.7897091779377304,\"reset_start\":-0.34471640900899114,\"start\":-0.34471640900899114,\"tags\":[[[\"Pearson_correlation_with_Target\",\"Pearson_correlation_with_Target\",null]]]},\"id\":\"25974\",\"type\":\"Range1d\"},{\"attributes\":{\"bottom_units\":\"screen\",\"fill_alpha\":0.5,\"fill_color\":\"lightgrey\",\"left_units\":\"screen\",\"level\":\"overlay\",\"line_alpha\":1.0,\"line_color\":\"black\",\"line_dash\":[4,4],\"line_width\":2,\"right_units\":\"screen\",\"top_units\":\"screen\"},\"id\":\"25998\",\"type\":\"BoxAnnotation\"},{\"attributes\":{},\"id\":\"26007\",\"type\":\"Selection\"},{\"attributes\":{},\"id\":\"26068\",\"type\":\"Selection\"},{\"attributes\":{},\"id\":\"26086\",\"type\":\"UnionRenderers\"},{\"attributes\":{},\"id\":\"25995\",\"type\":\"WheelZoomTool\"},{\"attributes\":{\"axis\":{\"id\":\"25990\"},\"dimension\":1,\"grid_line_color\":null,\"ticker\":null},\"id\":\"25992\",\"type\":\"Grid\"},{\"attributes\":{\"source\":{\"id\":\"26067\"}},\"id\":\"26074\",\"type\":\"CDSView\"},{\"attributes\":{},\"id\":\"25982\",\"type\":\"LinearScale\"},{\"attributes\":{\"source\":{\"id\":\"26006\"}},\"id\":\"26013\",\"type\":\"CDSView\"},{\"attributes\":{\"active_drag\":\"auto\",\"active_inspect\":\"auto\",\"active_multi\":null,\"active_scroll\":\"auto\",\"active_tap\":\"auto\",\"tools\":[{\"id\":\"26037\"},{\"id\":\"26054\"},{\"id\":\"26055\"},{\"id\":\"26056\"},{\"id\":\"26057\"},{\"id\":\"26058\"}]},\"id\":\"26060\",\"type\":\"Toolbar\"},{\"attributes\":{\"text\":\"Mutual Information with Target\",\"text_color\":{\"value\":\"black\"},\"text_font_size\":{\"value\":\"12pt\"}},\"id\":\"26039\",\"type\":\"Title\"},{\"attributes\":{},\"id\":\"26055\",\"type\":\"PanTool\"},{\"attributes\":{\"axis_label\":\"\",\"bounds\":\"auto\",\"formatter\":{\"id\":\"26077\"},\"major_label_orientation\":\"horizontal\",\"ticker\":{\"id\":\"26052\"}},\"id\":\"26051\",\"type\":\"CategoricalAxis\"},{\"attributes\":{\"bottom_units\":\"screen\",\"fill_alpha\":0.5,\"fill_color\":\"lightgrey\",\"left_units\":\"screen\",\"level\":\"overlay\",\"line_alpha\":1.0,\"line_color\":\"black\",\"line_dash\":[4,4],\"line_width\":2,\"right_units\":\"screen\",\"top_units\":\"screen\"},\"id\":\"26059\",\"type\":\"BoxAnnotation\"},{\"attributes\":{\"active_drag\":\"auto\",\"active_inspect\":\"auto\",\"active_multi\":null,\"active_scroll\":\"auto\",\"active_tap\":\"auto\",\"tools\":[{\"id\":\"25976\"},{\"id\":\"25993\"},{\"id\":\"25994\"},{\"id\":\"25995\"},{\"id\":\"25996\"},{\"id\":\"25997\"}]},\"id\":\"25999\",\"type\":\"Toolbar\"},{\"attributes\":{},\"id\":\"26048\",\"type\":\"BasicTicker\"},{\"attributes\":{\"align\":null,\"below\":[{\"id\":\"26047\"}],\"center\":[{\"id\":\"26050\"},{\"id\":\"26053\"}],\"left\":[{\"id\":\"26051\"}],\"margin\":null,\"min_border_bottom\":10,\"min_border_left\":10,\"min_border_right\":10,\"min_border_top\":10,\"plot_height\":300,\"plot_width\":700,\"renderers\":[{\"id\":\"26073\"}],\"sizing_mode\":\"fixed\",\"title\":{\"id\":\"26039\"},\"toolbar\":{\"id\":\"26060\"},\"x_range\":{\"id\":\"26035\"},\"x_scale\":{\"id\":\"26043\"},\"y_range\":{\"id\":\"25975\"},\"y_scale\":{\"id\":\"26045\"}},\"id\":\"26038\",\"subtype\":\"Figure\",\"type\":\"Plot\"},{\"attributes\":{\"child\":{\"id\":\"25977\"},\"name\":\"feature_correlation\",\"title\":\"feature_correlation\"},\"id\":\"26034\",\"type\":\"Panel\"},{\"attributes\":{},\"id\":\"26056\",\"type\":\"WheelZoomTool\"},{\"attributes\":{},\"id\":\"26052\",\"type\":\"CategoricalTicker\"},{\"attributes\":{\"data_source\":{\"id\":\"26006\"},\"glyph\":{\"id\":\"26009\"},\"hover_glyph\":null,\"muted_glyph\":{\"id\":\"26011\"},\"nonselection_glyph\":{\"id\":\"26010\"},\"selection_glyph\":null,\"view\":{\"id\":\"26013\"}},\"id\":\"26012\",\"type\":\"GlyphRenderer\"},{\"attributes\":{\"child\":{\"id\":\"26038\"},\"name\":\"mutual_information\",\"title\":\"mutual_information\"},\"id\":\"26095\",\"type\":\"Panel\"},{\"attributes\":{\"axis\":{\"id\":\"25986\"},\"grid_line_color\":null,\"ticker\":null},\"id\":\"25989\",\"type\":\"Grid\"},{\"attributes\":{},\"id\":\"25991\",\"type\":\"CategoricalTicker\"},{\"attributes\":{},\"id\":\"26043\",\"type\":\"LinearScale\"},{\"attributes\":{\"axis_label\":\"\",\"bounds\":\"auto\",\"formatter\":{\"id\":\"26016\"},\"major_label_orientation\":\"horizontal\",\"ticker\":{\"id\":\"25991\"}},\"id\":\"25990\",\"type\":\"CategoricalAxis\"},{\"attributes\":{\"fill_alpha\":{\"value\":0.1},\"fill_color\":{\"value\":\"#1f77b3\"},\"height\":{\"value\":0.8},\"line_alpha\":{\"value\":0.1},\"right\":{\"field\":\"Pearson_correlation_with_Target\"},\"y\":{\"field\":\"index\"}},\"id\":\"26010\",\"type\":\"HBar\"},{\"attributes\":{},\"id\":\"26075\",\"type\":\"BasicTickFormatter\"},{\"attributes\":{},\"id\":\"26058\",\"type\":\"ResetTool\"},{\"attributes\":{\"fill_alpha\":{\"value\":0.1},\"fill_color\":{\"value\":\"#1f77b3\"},\"height\":{\"value\":0.8},\"line_alpha\":{\"value\":0.1},\"right\":{\"field\":\"Mutual_information_with_Target\"},\"y\":{\"field\":\"index\"}},\"id\":\"26071\",\"type\":\"HBar\"},{\"attributes\":{\"axis_label\":\"Mutual_information_with_Target\",\"bounds\":\"auto\",\"formatter\":{\"id\":\"26075\"},\"major_label_orientation\":\"horizontal\",\"ticker\":{\"id\":\"26048\"}},\"id\":\"26047\",\"type\":\"LinearAxis\"},{\"attributes\":{\"callback\":null,\"renderers\":[{\"id\":\"26012\"}],\"tags\":[\"hv_created\"],\"tooltips\":[[\"index\",\"@{index}\"],[\"Pearson_correlation_with_Target\",\"@{Pearson_correlation_with_Target}\"]]},\"id\":\"25976\",\"type\":\"HoverTool\"},{\"attributes\":{\"fill_alpha\":{\"value\":0.2},\"fill_color\":{\"value\":\"#1f77b3\"},\"height\":{\"value\":0.8},\"line_alpha\":{\"value\":0.2},\"right\":{\"field\":\"Pearson_correlation_with_Target\"},\"y\":{\"field\":\"index\"}},\"id\":\"26011\",\"type\":\"HBar\"},{\"attributes\":{\"factors\":[\"num_bedrooms_per_room\",\"num_latitude\",\"num_longitude\",\"num_population\",\"num_total_bedrooms\",\"num_households\",\"num_housing_median_age\",\"num_total_rooms\",\"num_median_income\"],\"tags\":[[[\"index\",\"index\",null]]]},\"id\":\"25975\",\"type\":\"FactorRange\"},{\"attributes\":{\"margin\":[0,0,0,0],\"tabs\":[{\"id\":\"26034\"},{\"id\":\"26095\"}]},\"id\":\"25973\",\"type\":\"Tabs\"},{\"attributes\":{},\"id\":\"25987\",\"type\":\"BasicTicker\"},{\"attributes\":{\"overlay\":{\"id\":\"26059\"}},\"id\":\"26057\",\"type\":\"BoxZoomTool\"},{\"attributes\":{\"text\":\"Feature Correlation with Target Function\",\"text_color\":{\"value\":\"black\"},\"text_font_size\":{\"value\":\"12pt\"}},\"id\":\"25978\",\"type\":\"Title\"},{\"attributes\":{\"fill_color\":{\"value\":\"#1f77b3\"},\"height\":{\"value\":0.8},\"right\":{\"field\":\"Mutual_information_with_Target\"},\"y\":{\"field\":\"index\"}},\"id\":\"26070\",\"type\":\"HBar\"},{\"attributes\":{\"axis_label\":\"Pearson_correlation_with_Target\",\"bounds\":\"auto\",\"formatter\":{\"id\":\"26014\"},\"major_label_orientation\":\"horizontal\",\"ticker\":{\"id\":\"25987\"}},\"id\":\"25986\",\"type\":\"LinearAxis\"},{\"attributes\":{},\"id\":\"26016\",\"type\":\"CategoricalTickFormatter\"},{\"attributes\":{\"fill_color\":{\"value\":\"#1f77b3\"},\"height\":{\"value\":0.8},\"right\":{\"field\":\"Pearson_correlation_with_Target\"},\"y\":{\"field\":\"index\"}},\"id\":\"26009\",\"type\":\"HBar\"},{\"attributes\":{},\"id\":\"25993\",\"type\":\"SaveTool\"},{\"attributes\":{\"fill_alpha\":{\"value\":0.2},\"fill_color\":{\"value\":\"#1f77b3\"},\"height\":{\"value\":0.8},\"line_alpha\":{\"value\":0.2},\"right\":{\"field\":\"Mutual_information_with_Target\"},\"y\":{\"field\":\"index\"}},\"id\":\"26072\",\"type\":\"HBar\"},{\"attributes\":{\"client_comm_id\":\"02abdcc9f1a04db5bfd043d90310197f\",\"comm_id\":\"dcefe2e1d54c4436b63cbc9d40dfad55\",\"plot_id\":\"25973\"},\"id\":\"26144\",\"type\":\"panel.models.comm_manager.CommManager\"},{\"attributes\":{\"align\":null,\"below\":[{\"id\":\"25986\"}],\"center\":[{\"id\":\"25989\"},{\"id\":\"25992\"}],\"left\":[{\"id\":\"25990\"}],\"margin\":null,\"min_border_bottom\":10,\"min_border_left\":10,\"min_border_right\":10,\"min_border_top\":10,\"plot_height\":300,\"plot_width\":700,\"renderers\":[{\"id\":\"26012\"}],\"sizing_mode\":\"fixed\",\"title\":{\"id\":\"25978\"},\"toolbar\":{\"id\":\"25999\"},\"x_range\":{\"id\":\"25974\"},\"x_scale\":{\"id\":\"25982\"},\"y_range\":{\"id\":\"25975\"},\"y_scale\":{\"id\":\"25984\"}},\"id\":\"25977\",\"subtype\":\"Figure\",\"type\":\"Plot\"},{\"attributes\":{\"data\":{\"Pearson_correlation_with_Target\":{\"__ndarray__\":\"LFeH7vYC0L+cb7eNJuLCv4263vBnv6W/+ZqWbxJwoL+peeQtAm2rPzbP04q1fLI//JAVw1NEuj+KGJCJha7DP/3X8/DcPuY/\",\"dtype\":\"float64\",\"order\":\"little\",\"shape\":[9]},\"index\":[\"num_bedrooms_per_room\",\"num_latitude\",\"num_longitude\",\"num_population\",\"num_total_bedrooms\",\"num_households\",\"num_housing_median_age\",\"num_total_rooms\",\"num_median_income\"]},\"selected\":{\"id\":\"26007\"},\"selection_policy\":{\"id\":\"26025\"}},\"id\":\"26006\",\"type\":\"ColumnDataSource\"},{\"attributes\":{\"axis\":{\"id\":\"26051\"},\"dimension\":1,\"grid_line_color\":null,\"ticker\":null},\"id\":\"26053\",\"type\":\"Grid\"},{\"attributes\":{\"end\":0.45629559765753136,\"reset_end\":0.45629559765753136,\"reset_start\":0.0,\"tags\":[[[\"Mutual_information_with_Target\",\"Mutual_information_with_Target\",null]]]},\"id\":\"26035\",\"type\":\"Range1d\"}],\"root_ids\":[\"25973\",\"26144\"]},\"title\":\"Bokeh Application\",\"version\":\"2.2.3\"}};\n",
       "  var render_items = [{\"docid\":\"3d20d1c0-fbcb-41b4-8791-b89dc673c380\",\"root_ids\":[\"25973\"],\"roots\":{\"25973\":\"b20b4986-b025-4103-b624-c46f5793b0b6\"}}];\n",
       "  root.Bokeh.embed.embed_items_notebook(docs_json, render_items);\n",
       "  }\n",
       "if (root.Bokeh !== undefined) {\n",
       "    embed_document(root);\n",
       "  } else {\n",
       "    var attempts = 0;\n",
       "    var timer = setInterval(function(root) {\n",
       "      if (root.Bokeh !== undefined) {\n",
       "        clearInterval(timer);\n",
       "        embed_document(root);\n",
       "      } else if (document.readyState == \"complete\") {\n",
       "        attempts++;\n",
       "        if (attempts > 100) {\n",
       "          clearInterval(timer);\n",
       "          console.log(\"Bokeh: ERROR: Unable to run BokehJS code because BokehJS library is missing\");\n",
       "        }\n",
       "      }\n",
       "    }, 10, root)\n",
       "  }\n",
       "})(window);</script>"
      ],
      "text/plain": [
       "Tabs\n",
       "    [0] HoloViews(Bars, name='feature_correlation')\n",
       "    [1] HoloViews(Bars, name='mutual_information')"
      ]
     },
     "execution_count": 40,
     "metadata": {
      "application/vnd.holoviews_exec.v0+json": {
       "id": "25973"
      }
     },
     "output_type": "execute_result"
    }
   ],
   "source": [
    "out = eda.get_target_correlation(train_X, train_y)\n",
    "display_as_tabs([(k, v) for k,v in out.items()])"
   ]
  },
  {
   "cell_type": "markdown",
   "metadata": {},
   "source": [
    "Key drivers report like feature importance, bivariate plots can be obtained as below"
   ]
  },
  {
   "cell_type": "markdown",
   "metadata": {},
   "source": [
    "**Dev Notes**\n",
    "<details>\n",
    "    \n",
    "- The SHAP plots and bivariate plots in key drivers reports can be obtained by including quick=False as a parameter to key_drivers function call. \n",
    "- SHAP plots and bivariate plots often take long depending on data shape.\n",
    "- The plot with shap is present [here](https://drive.google.com/file/d/1JOTMBLiv3LEqZ-kxZz0RokW9v5UyiGva/view?usp=sharing)\n",
    "\n",
    "</details>"
   ]
  },
  {
   "cell_type": "markdown",
   "metadata": {},
   "source": [
    "\n",
    "All the plots like feature analysis, interaction, key drivers can be obtained as a single plot using data exploration method as shown below. The output from this is available [here](https://drive.google.com/file/d/1_3rE5u3qFHdeoL3VrFNTG-aBtHFALnI7/view?usp=sharing)"
   ]
  },
  {
   "cell_type": "code",
   "execution_count": 41,
   "metadata": {},
   "outputs": [],
   "source": [
    "# saving the list of relevant columns\n",
    "save_pipeline(curated_columns, op.abspath(op.join(artifacts_folder, 'curated_columns.joblib')))\n",
    "\n",
    "# save the feature pipeline\n",
    "save_pipeline(features_transformer, op.abspath(op.join(artifacts_folder, 'features.joblib')))"
   ]
  },
  {
   "cell_type": "markdown",
   "metadata": {},
   "source": [
    "# 4 Modelling"
   ]
  },
  {
   "cell_type": "markdown",
   "metadata": {},
   "source": [
    "## 4.1 Modelling - Linear Regression"
   ]
  },
  {
   "cell_type": "markdown",
   "metadata": {},
   "source": [
    "### 4.1.1 Feature Selection(Specific to Regression)\n",
    "\n",
    "- Selecting Features specific to regression\n",
    "- VIF : measure of the amount of multi-collinearity in a set of multiple regressor variables. \n",
    "- On a case to case basis VIF thresholds change. Generally 5 or 10 are acceptable levels.\n",
    "- Usually on a recursive basis when removing the most collinear variable, there can be shuffle in VIF. \n",
    "- Often this section will not be part of the production code."
   ]
  },
  {
   "cell_type": "code",
   "execution_count": 42,
   "metadata": {},
   "outputs": [],
   "source": [
    "cols = list(train_X.columns)\n",
    "vif = eda.calc_vif(train_X)\n",
    "while max(vif.VIF) > 15:\n",
    "    #removing the largest variable from VIF\n",
    "    cols.remove(vif[(vif.VIF==vif.VIF.max())].variables.tolist()[0])\n",
    "    vif = eda.calc_vif(train_X[cols])"
   ]
  },
  {
   "cell_type": "code",
   "execution_count": 43,
   "metadata": {},
   "outputs": [],
   "source": [
    "reg_vars = vif.query('VIF < 15').variables\n",
    "reg_vars = list(reg_vars)"
   ]
  },
  {
   "cell_type": "markdown",
   "metadata": {},
   "source": [
    "### 4.1.2 Data transformations"
   ]
  },
  {
   "cell_type": "code",
   "execution_count": 44,
   "metadata": {},
   "outputs": [],
   "source": [
    "# Custom Transformations like these can be utilised\n",
    "def _custom_data_transform(df, cols2keep=None):\n",
    "    \"\"\"Transformation to drop some columns in the data\n",
    "    \n",
    "    Parameters\n",
    "    ----------\n",
    "        df - pd.DataFrame\n",
    "        cols2keep - columns to keep in the dataframe\n",
    "    \"\"\"\n",
    "    cols2keep = cols2keep or []\n",
    "    if len(cols2keep):\n",
    "        return (df\n",
    "                .select_columns(cols2keep))\n",
    "    else:\n",
    "        return df"
   ]
  },
  {
   "cell_type": "markdown",
   "metadata": {},
   "source": [
    "### 4.1.3 Model training pipeline\n",
    "\n",
    "- Here we focus on creating a collection of pipelines that can be used for training respective models.\n",
    "- Each model pipeline will essentially be of the form\n",
    "```\n",
    "[\n",
    "('preprocessing', preprocessing_pipeline),\n",
    "('feature_selection', feature_selection_pipeline),\n",
    "('estimator', estimator),\n",
    "]\n",
    "```"
   ]
  },
  {
   "cell_type": "markdown",
   "metadata": {},
   "source": [
    "### 4.1.4 Model Pipeline Build\n",
    "\n",
    "- This will be part of the production code (training only)."
   ]
  },
  {
   "cell_type": "code",
   "execution_count": 45,
   "metadata": {},
   "outputs": [
    {
     "data": {
      "text/plain": [
       "Pipeline(steps=[('',\n",
       "                 FunctionTransformer(func=<function _custom_data_transform at 0x7f9f3816e820>,\n",
       "                                     kw_args={'cols2keep': ['num_bedrooms_per_room',\n",
       "                                                            'num_total_rooms',\n",
       "                                                            'num_median_income',\n",
       "                                                            'num_longitude',\n",
       "                                                            'num_latitude',\n",
       "                                                            'num_housing_median_age',\n",
       "                                                            'num_population']})),\n",
       "                ('estimator', SKLStatsmodelOLS())])"
      ]
     },
     "execution_count": 45,
     "metadata": {},
     "output_type": "execute_result"
    }
   ],
   "source": [
    "reg_ppln_ols = Pipeline([\n",
    "    ('',FunctionTransformer(_custom_data_transform, kw_args={'cols2keep':reg_vars})),\n",
    "    ('estimator', SKLStatsmodelOLS())\n",
    "])\n",
    "reg_ppln_ols.fit(train_X, train_y.values.ravel())\n"
   ]
  },
  {
   "cell_type": "code",
   "execution_count": 46,
   "metadata": {},
   "outputs": [
    {
     "data": {
      "text/html": [
       "<table class=\"simpletable\">\n",
       "<caption>OLS Regression Results</caption>\n",
       "<tr>\n",
       "  <th>Dep. Variable:</th>            <td>y</td>        <th>  R-squared:         </th>  <td>   0.654</td>  \n",
       "</tr>\n",
       "<tr>\n",
       "  <th>Model:</th>                   <td>OLS</td>       <th>  Adj. R-squared:    </th>  <td>   0.654</td>  \n",
       "</tr>\n",
       "<tr>\n",
       "  <th>Method:</th>             <td>Least Squares</td>  <th>  F-statistic:       </th>  <td>   4456.</td>  \n",
       "</tr>\n",
       "<tr>\n",
       "  <th>Date:</th>             <td>Wed, 08 Jun 2022</td> <th>  Prob (F-statistic):</th>   <td>  0.00</td>   \n",
       "</tr>\n",
       "<tr>\n",
       "  <th>Time:</th>                 <td>10:45:12</td>     <th>  Log-Likelihood:    </th> <td>-2.0710e+05</td>\n",
       "</tr>\n",
       "<tr>\n",
       "  <th>No. Observations:</th>      <td> 16512</td>      <th>  AIC:               </th>  <td>4.142e+05</td> \n",
       "</tr>\n",
       "<tr>\n",
       "  <th>Df Residuals:</th>          <td> 16504</td>      <th>  BIC:               </th>  <td>4.143e+05</td> \n",
       "</tr>\n",
       "<tr>\n",
       "  <th>Df Model:</th>              <td>     7</td>      <th>                     </th>      <td> </td>     \n",
       "</tr>\n",
       "<tr>\n",
       "  <th>Covariance Type:</th>      <td>nonrobust</td>    <th>                     </th>      <td> </td>     \n",
       "</tr>\n",
       "</table>\n",
       "<table class=\"simpletable\">\n",
       "<tr>\n",
       "             <td></td>               <th>coef</th>     <th>std err</th>      <th>t</th>      <th>P>|t|</th>  <th>[0.025</th>    <th>0.975]</th>  \n",
       "</tr>\n",
       "<tr>\n",
       "  <th>intercept</th>              <td> 2.068e+05</td> <td>  527.210</td> <td>  392.189</td> <td> 0.000</td> <td> 2.06e+05</td> <td> 2.08e+05</td>\n",
       "</tr>\n",
       "<tr>\n",
       "  <th>num_bedrooms_per_room</th>  <td> 3.044e+04</td> <td>  735.925</td> <td>   41.369</td> <td> 0.000</td> <td>  2.9e+04</td> <td> 3.19e+04</td>\n",
       "</tr>\n",
       "<tr>\n",
       "  <th>num_total_rooms</th>        <td> 4.401e+04</td> <td> 1156.714</td> <td>   38.046</td> <td> 0.000</td> <td> 4.17e+04</td> <td> 4.63e+04</td>\n",
       "</tr>\n",
       "<tr>\n",
       "  <th>num_median_income</th>      <td> 8.292e+04</td> <td>  768.542</td> <td>  107.896</td> <td> 0.000</td> <td> 8.14e+04</td> <td> 8.44e+04</td>\n",
       "</tr>\n",
       "<tr>\n",
       "  <th>num_longitude</th>          <td>-7.894e+04</td> <td> 1553.390</td> <td>  -50.817</td> <td> 0.000</td> <td> -8.2e+04</td> <td>-7.59e+04</td>\n",
       "</tr>\n",
       "<tr>\n",
       "  <th>num_latitude</th>           <td>-8.316e+04</td> <td> 1588.296</td> <td>  -52.359</td> <td> 0.000</td> <td>-8.63e+04</td> <td>   -8e+04</td>\n",
       "</tr>\n",
       "<tr>\n",
       "  <th>num_housing_median_age</th> <td> 1.601e+04</td> <td>  598.702</td> <td>   26.742</td> <td> 0.000</td> <td> 1.48e+04</td> <td> 1.72e+04</td>\n",
       "</tr>\n",
       "<tr>\n",
       "  <th>num_population</th>         <td> -3.87e+04</td> <td> 1114.970</td> <td>  -34.710</td> <td> 0.000</td> <td>-4.09e+04</td> <td>-3.65e+04</td>\n",
       "</tr>\n",
       "</table>\n",
       "<table class=\"simpletable\">\n",
       "<tr>\n",
       "  <th>Omnibus:</th>       <td>3487.534</td> <th>  Durbin-Watson:     </th> <td>   1.989</td> \n",
       "</tr>\n",
       "<tr>\n",
       "  <th>Prob(Omnibus):</th>  <td> 0.000</td>  <th>  Jarque-Bera (JB):  </th> <td>10878.833</td>\n",
       "</tr>\n",
       "<tr>\n",
       "  <th>Skew:</th>           <td> 1.082</td>  <th>  Prob(JB):          </th> <td>    0.00</td> \n",
       "</tr>\n",
       "<tr>\n",
       "  <th>Kurtosis:</th>       <td> 6.336</td>  <th>  Cond. No.          </th> <td>    6.40</td> \n",
       "</tr>\n",
       "</table><br/><br/>Warnings:<br/>[1] Standard Errors assume that the covariance matrix of the errors is correctly specified."
      ],
      "text/plain": [
       "<class 'statsmodels.iolib.summary.Summary'>\n",
       "\"\"\"\n",
       "                            OLS Regression Results                            \n",
       "==============================================================================\n",
       "Dep. Variable:                      y   R-squared:                       0.654\n",
       "Model:                            OLS   Adj. R-squared:                  0.654\n",
       "Method:                 Least Squares   F-statistic:                     4456.\n",
       "Date:                Wed, 08 Jun 2022   Prob (F-statistic):               0.00\n",
       "Time:                        10:45:12   Log-Likelihood:            -2.0710e+05\n",
       "No. Observations:               16512   AIC:                         4.142e+05\n",
       "Df Residuals:                   16504   BIC:                         4.143e+05\n",
       "Df Model:                           7                                         \n",
       "Covariance Type:            nonrobust                                         \n",
       "==========================================================================================\n",
       "                             coef    std err          t      P>|t|      [0.025      0.975]\n",
       "------------------------------------------------------------------------------------------\n",
       "intercept               2.068e+05    527.210    392.189      0.000    2.06e+05    2.08e+05\n",
       "num_bedrooms_per_room   3.044e+04    735.925     41.369      0.000     2.9e+04    3.19e+04\n",
       "num_total_rooms         4.401e+04   1156.714     38.046      0.000    4.17e+04    4.63e+04\n",
       "num_median_income       8.292e+04    768.542    107.896      0.000    8.14e+04    8.44e+04\n",
       "num_longitude          -7.894e+04   1553.390    -50.817      0.000    -8.2e+04   -7.59e+04\n",
       "num_latitude           -8.316e+04   1588.296    -52.359      0.000   -8.63e+04      -8e+04\n",
       "num_housing_median_age  1.601e+04    598.702     26.742      0.000    1.48e+04    1.72e+04\n",
       "num_population          -3.87e+04   1114.970    -34.710      0.000   -4.09e+04   -3.65e+04\n",
       "==============================================================================\n",
       "Omnibus:                     3487.534   Durbin-Watson:                   1.989\n",
       "Prob(Omnibus):                  0.000   Jarque-Bera (JB):            10878.833\n",
       "Skew:                           1.082   Prob(JB):                         0.00\n",
       "Kurtosis:                       6.336   Cond. No.                         6.40\n",
       "==============================================================================\n",
       "\n",
       "Warnings:\n",
       "[1] Standard Errors assume that the covariance matrix of the errors is correctly specified.\n",
       "\"\"\""
      ]
     },
     "execution_count": 46,
     "metadata": {},
     "output_type": "execute_result"
    }
   ],
   "source": [
    "reg_ppln_ols['estimator'].summary()"
   ]
  },
  {
   "cell_type": "markdown",
   "metadata": {},
   "source": [
    "### 4.1.5 Model Evaluation(Linear Model)\n",
    "\n",
    "This will be part of the production code."
   ]
  },
  {
   "cell_type": "code",
   "execution_count": 47,
   "metadata": {},
   "outputs": [],
   "source": [
    "reg_ppln = Pipeline([\n",
    "    ('', FunctionTransformer(_custom_data_transform, kw_args={'cols2keep':reg_vars})),\n",
    "    ('Linear Regression', SKLStatsmodelOLS())\n",
    "])\n",
    "cat=test_X['ocean_proximity']\n",
    "test_X=attrib_adder.transform(test_X[num_columns])\n",
    "num_cols=train_X.select_dtypes('number').columns\n",
    "test_X['ocean_proximity']=cat\n",
    "test_X = get_dataframe(\n",
    "    features_transformer.transform(test_X), \n",
    "    get_feature_names_from_column_transformer(features_transformer)\n",
    ")\n",
    "test_X = test_X[curated_columns]"
   ]
  },
  {
   "cell_type": "code",
   "execution_count": 48,
   "metadata": {},
   "outputs": [],
   "source": [
    "reg_linear_report = RegressionReport(model=reg_ppln, x_train=train_X, y_train=train_y, x_test= test_X, y_test= test_y, refit=True)\n",
    "reg_linear_report.get_report(include_shap=False, file_path='regression_linear_model_report')"
   ]
  },
  {
   "cell_type": "markdown",
   "metadata": {},
   "source": [
    "**Dev Notes**\n",
    "Use SHAP for variable interpretability.\n",
    "<details>\n",
    "\n",
    "    1. Use SHAP=True to generate variable interpretability plots in the report\n",
    "    2. SHAP is recommended for non parameteric models such as RF, xgboost.\n",
    "    3. However, SHAP reports are time consuming depending on no.of records and model complexity.\n",
    "    \n",
    "A sample of regerssion report with SHAP can be found [here](https://drive.google.com/file/d/18RlQTsT1ze09Cgz-qpb4ha_cvyWbN5F5/view?usp=sharing).\n",
    "</details>"
   ]
  },
  {
   "cell_type": "markdown",
   "metadata": {},
   "source": [
    "### 4.1.6 Residual Analysis\n",
    "- After scoring the model, it is recommended to do a residual analysis to know the distribution of errors\n",
    "- we took a threshold of 30% above which it is marked as over prediction or underprediction\n",
    "- This will not be part of the production code."
   ]
  },
  {
   "cell_type": "code",
   "execution_count": 49,
   "metadata": {},
   "outputs": [],
   "source": [
    "threshold=0.3\n",
    "residual_analysis = test_X.copy()\n",
    "residual_analysis['prediction'] = reg_ppln_ols.predict(test_X)\n",
    "residual_analysis['actuals'] = test_y.reset_index(drop = True).iloc[:,0].values\n",
    "residual_analysis['forecast_flag'] = 'good'\n",
    "residual_analysis.loc[((residual_analysis['prediction'] > (1+threshold) * residual_analysis['actuals'])\\\n",
    "                       & (residual_analysis['actuals']>100)),'forecast_flag'] = 'over predict'\n",
    "residual_analysis.loc[((residual_analysis['prediction'] < (1-threshold) * residual_analysis['actuals'])\\\n",
    "                       & (residual_analysis['actuals']>100)),'forecast_flag'] = 'under predict'"
   ]
  },
  {
   "cell_type": "code",
   "execution_count": 50,
   "metadata": {},
   "outputs": [
    {
     "data": {},
     "metadata": {},
     "output_type": "display_data"
    },
    {
     "data": {
      "application/vnd.holoviews_exec.v0+json": "",
      "text/html": [
       "<div id='32338'>\n",
       "\n",
       "\n",
       "\n",
       "\n",
       "\n",
       "  <div class=\"bk-root\" id=\"369cd905-b852-415c-9ed2-dea573cbce76\" data-root-id=\"32338\"></div>\n",
       "</div>\n",
       "<script type=\"application/javascript\">(function(root) {\n",
       "  function embed_document(root) {\n",
       "  var docs_json = {\"735383ad-8d50-4e16-9b88-6f1220f3ddda\":{\"roots\":{\"references\":[{\"attributes\":{},\"id\":\"32363\",\"type\":\"PanTool\"},{\"attributes\":{\"margin\":[5,5,5,5],\"name\":\"HSpacer87824\",\"sizing_mode\":\"stretch_width\"},\"id\":\"32545\",\"type\":\"Spacer\"},{\"attributes\":{},\"id\":\"32394\",\"type\":\"UnionRenderers\"},{\"attributes\":{\"children\":[{\"id\":\"32339\"},{\"id\":\"32345\"},{\"id\":\"32545\"}],\"margin\":[0,0,0,0],\"name\":\"Row87819\",\"tags\":[\"embedded\"]},\"id\":\"32338\",\"type\":\"Row\"},{\"attributes\":{\"end\":0.6263909692516513,\"reset_end\":0.6263909692516513,\"reset_start\":0.0,\"tags\":[[[\"num_total_rooms_density\",\"Density\",null]]]},\"id\":\"32341\",\"type\":\"Range1d\"},{\"attributes\":{\"axis\":{\"id\":\"32358\"},\"dimension\":1,\"grid_line_color\":null,\"ticker\":null},\"id\":\"32361\",\"type\":\"Grid\"},{\"attributes\":{\"text\":\"num_total_rooms(density)\",\"text_color\":{\"value\":\"black\"},\"text_font_size\":{\"value\":\"12pt\"}},\"id\":\"32346\",\"type\":\"Title\"},{\"attributes\":{\"axis_label\":\"num_total_rooms\",\"bounds\":\"auto\",\"formatter\":{\"id\":\"32375\"},\"major_label_orientation\":\"horizontal\",\"ticker\":{\"id\":\"32355\"}},\"id\":\"32354\",\"type\":\"LinearAxis\"},{\"attributes\":{},\"id\":\"32380\",\"type\":\"Selection\"},{\"attributes\":{\"fill_alpha\":0.5,\"fill_color\":\"#1f77b3\",\"line_alpha\":0.7,\"x\":{\"field\":\"x\"},\"y\":{\"field\":\"y\"}},\"id\":\"32382\",\"type\":\"Patch\"},{\"attributes\":{},\"id\":\"32377\",\"type\":\"BasicTickFormatter\"},{\"attributes\":{\"fill_alpha\":0.2,\"fill_color\":\"#2ba02b\",\"line_alpha\":0.2,\"x\":{\"field\":\"x\"},\"y\":{\"field\":\"y\"}},\"id\":\"32421\",\"type\":\"Patch\"},{\"attributes\":{},\"id\":\"32350\",\"type\":\"LinearScale\"},{\"attributes\":{},\"id\":\"32352\",\"type\":\"LinearScale\"},{\"attributes\":{\"label\":{\"value\":\"over predict\"},\"renderers\":[{\"id\":\"32385\"}]},\"id\":\"32396\",\"type\":\"LegendItem\"},{\"attributes\":{\"active_drag\":\"auto\",\"active_inspect\":\"auto\",\"active_multi\":null,\"active_scroll\":\"auto\",\"active_tap\":\"auto\",\"tools\":[{\"id\":\"32342\"},{\"id\":\"32362\"},{\"id\":\"32363\"},{\"id\":\"32364\"},{\"id\":\"32365\"},{\"id\":\"32366\"}]},\"id\":\"32368\",\"type\":\"Toolbar\"},{\"attributes\":{},\"id\":\"32362\",\"type\":\"SaveTool\"},{\"attributes\":{\"fill_alpha\":0.2,\"fill_color\":\"#1f77b3\",\"line_alpha\":0.2,\"x\":{\"field\":\"x\"},\"y\":{\"field\":\"y\"}},\"id\":\"32384\",\"type\":\"Patch\"},{\"attributes\":{\"data_source\":{\"id\":\"32379\"},\"glyph\":{\"id\":\"32382\"},\"hover_glyph\":null,\"muted_glyph\":{\"id\":\"32384\"},\"nonselection_glyph\":{\"id\":\"32383\"},\"selection_glyph\":null,\"view\":{\"id\":\"32386\"}},\"id\":\"32385\",\"type\":\"GlyphRenderer\"},{\"attributes\":{},\"id\":\"32375\",\"type\":\"BasicTickFormatter\"},{\"attributes\":{\"data\":{\"x\":{\"__ndarray__\":\"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\",\"dtype\":\"float64\",\"order\":\"little\",\"shape\":[200]},\"y\":{\"__ndarray__\":\"AAAAAAAAAAAAAAAAAAAAAAAAAAAAAAAAAAAAAAAAAAAAAAAAAAAAAAAAAAAAAAAAAAAAAAAAAAAAAAAAAAAAAAAAAAAAAAAAAAAAAAAAAAAAAAAAAAAAAAAAAAAAAAAAAAAAAAAAAAAAAAAAAAAAAAAAAAAAAAAAAAAAAAAAAAAAAAAAAAAAAAAAAAAAAAAAAAAAAAAAAAAAAAAAAAAAAAAAAAAAAAAAAAAAAAAAAAAAAAAAAAAAAAAAAAAAAAAAAAAAAAAAAAAAAAAAAAAAAAAAAAAAAAAAAAAAAAAAAAAAAAAAAAAAAAAAAAAAAAAAAAAAAAAAAAAAAAAAAAAAAAAAAAAAAAAAAAAAAAAAAAAAAAAAAAAAAAAAAAAAAAAAAAAAAAAAAAAAAAAAAAAAAAAAAAAAAAAAAAAAAAAAAAAAAAAAAAAAAAAAAAAAAAAAAAAAAAAAAAAAAAAAAAAAAAAAAAAAAAAAAAAAAAAAAAAAAAAAAAAAAAAAAAAAAAAAAAAAAAAAAAAAAAAAAAAAAAAAAAAAAAAAAAAAAAAAAAAAAAAAAAAAAAAAAAAAAAAAAAAAAAAAAAAAAAAAAAAAAAAAAAAAAAAAAAAAAAAAAAAAAAAAAAAAAAAAAAAAAAAAAAAAAAAAAAAAAAAAAAAAAAAAAAAAAAAAAAAAAAAAAAAAAAAAAAAAAAAAAAAAAAAAAAAAAAAAAAAAAAAAAAAAAAAAAAAAAAAAAAAAAAAAAAAAAAAAAAAAAAAAAAAAAAAAAAAAAAAAAAAAAAAAAAAAAAAAAAAAAAAAAAAAAAAAAAAAAAAAAAAAAAAAAAAAAAAAAAAAAAAAAAAAAAAAAAAAAAAAAAAAAAAAAAAAAAAAAAAAAAAAAAAAAAAAAAAAAAAAAAAAAAAAAAAAAAAAAAAAAAAAAAAAAAAAAAAAAAAAAAAAAAAAAAAAAAAAAAAAAAAAAAAAAAAAAAAAAAAAAAAAAAAAAAAAAAAAAAAAAAAAAAAAAAAAAAAAAAAAAAAAAAAAAAAAAAAAAAAAAAAAAAAAAAAAAAAAAAAAAAAAAAAAAADq/vjXD/zkPiVBSZDWjgQ/iq0M6158Hz8gi/7W5NgyP0hgdvlRo0E/r4jt0zfPST9jL313DY1NP+4SVbskm0o/YSsHrINhQz+Vh23jpk06P3TyUQ8hQjg/DK5PRID5QD+eDetCDntIP5IRRAvKUE0/FCwY7wzKSz/Axs9/AeZEP55OnNRRpTo/F6KBjXRmMz9nmi5gGi04PxXYOG9Ee0M/R8wWrYZeTD8nLaGhPmtRPyqSb7riyVI/OE9d8HAIUz+MnrF7/Z9SP2HuY0F0BVE/XFNB5VpUTD+cPQ+F6VVHP6sPwECC5UY/gz1mFy/1Sj/b/fQtmk9PPzx+v70QJFA/pG4s1QTATj+YLluzmEJOPyKwDKBEp08/uFo47T2ZTz/7NqSyzedKPwt+gIxleUI/h2Qk0TQJND8gbVHZmQwhP0MC9XYZ+AY/oFQs9Kdg7z7jZYsr7DP3Pk64gYs+LRY/vtQLDkGuMj8u0OABBFdJP/utIu68y1s/IP5E8hboaD+NXmZtcHdyP0ZO5JR5Cnc/xvIwxprMeD8vH+RA9hF4PyKcKmif1HY/7F4ebJNadz/y0VIhCHh6P9i9qAjy8X4/4NTb5MhcgT8BD+pLiVWCP75sEULBfII/yZKWm2Yugj84ahZykrCBP/cv64NZQoE/MJOglllWgT8Ds2FOG3yCP8Xdk2O11IQ/bh+MxuK0hz+iySvxdxSKPzaireh2WIs/mdq861WNiz/+GUo/SQiLP/lrwSgPJoo/DalAh1mBiT/7uFvt0DOKP8EN6cyjfI0/2L2DRRX5kT8rInEAA62WP5A/us/y2Jw/KGzXrf6Toj91xfkYsXmoP41cpR7ZebA/QThxz6pxtj8F69YUtZK+P/HlJvxMncQ/7/G9Hz1Qyz/l/1Rfh6vRP5eGiwM2KtY/kD9bF2mr2j+cikBboVveP2kJOIz0G+A/i+2+6jh73z+cKibFjwvcP3OJ68iKlNY/XZj0wQ5D0D+lY0hrp6rEP+n5s5/6ybY/HqM1rfhqpT9k10tjON6QP2gGVo7N8HU/3sH5kmFJVz+HHcGSePozPw==\",\"dtype\":\"float64\",\"order\":\"little\",\"shape\":[200]}},\"selected\":{\"id\":\"32380\"},\"selection_policy\":{\"id\":\"32394\"}},\"id\":\"32379\",\"type\":\"ColumnDataSource\"},{\"attributes\":{\"bottom_units\":\"screen\",\"fill_alpha\":0.5,\"fill_color\":\"lightgrey\",\"left_units\":\"screen\",\"level\":\"overlay\",\"line_alpha\":1.0,\"line_color\":\"black\",\"line_dash\":[4,4],\"line_width\":2,\"right_units\":\"screen\",\"top_units\":\"screen\"},\"id\":\"32367\",\"type\":\"BoxAnnotation\"},{\"attributes\":{},\"id\":\"32359\",\"type\":\"BasicTicker\"},{\"attributes\":{\"fill_alpha\":0.5,\"fill_color\":\"#ff7e0e\",\"line_alpha\":0.7,\"x\":{\"field\":\"x\"},\"y\":{\"field\":\"y\"}},\"id\":\"32400\",\"type\":\"Patch\"},{\"attributes\":{},\"id\":\"32364\",\"type\":\"WheelZoomTool\"},{\"attributes\":{\"overlay\":{\"id\":\"32367\"}},\"id\":\"32365\",\"type\":\"BoxZoomTool\"},{\"attributes\":{\"data_source\":{\"id\":\"32397\"},\"glyph\":{\"id\":\"32400\"},\"hover_glyph\":null,\"muted_glyph\":{\"id\":\"32402\"},\"nonselection_glyph\":{\"id\":\"32401\"},\"selection_glyph\":null,\"view\":{\"id\":\"32404\"}},\"id\":\"32403\",\"type\":\"GlyphRenderer\"},{\"attributes\":{\"fill_alpha\":0.5,\"fill_color\":\"#2ba02b\",\"line_alpha\":0.7,\"x\":{\"field\":\"x\"},\"y\":{\"field\":\"y\"}},\"id\":\"32420\",\"type\":\"Patch\"},{\"attributes\":{\"source\":{\"id\":\"32379\"}},\"id\":\"32386\",\"type\":\"CDSView\"},{\"attributes\":{},\"id\":\"32414\",\"type\":\"UnionRenderers\"},{\"attributes\":{\"source\":{\"id\":\"32397\"}},\"id\":\"32404\",\"type\":\"CDSView\"},{\"attributes\":{},\"id\":\"32366\",\"type\":\"ResetTool\"},{\"attributes\":{\"margin\":[5,5,5,5],\"name\":\"HSpacer87823\",\"sizing_mode\":\"stretch_width\"},\"id\":\"32339\",\"type\":\"Spacer\"},{\"attributes\":{\"data\":{\"x\":{\"__ndarray__\":\"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\",\"dtype\":\"float64\",\"order\":\"little\",\"shape\":[200]},\"y\":{\"__ndarray__\":\"AAAAAAAAAAAAAAAAAAAAAAAAAAAAAAAAAAAAAAAAAAAAAAAAAAAAAAAAAAAAAAAAAAAAAAAAAAAAAAAAAAAAAAAAAAAAAAAAAAAAAAAAAAAAAAAAAAAAAAAAAAAAAAAAAAAAAAAAAAAAAAAAAAAAAAAAAAAAAAAAAAAAAAAAAAAAAAAAAAAAAAAAAAAAAAAAAAAAAAAAAAAAAAAAAAAAAAAAAAAAAAAAAAAAAAAAAAAAAAAAAAAAAAAAAAAAAAAAAAAAAAAAAAAAAAAAAAAAAAAAAAAAAAAAAAAAAAAAAAAAAAAAAAAAAAAAAAAAAAAAAAAAAAAAAAAAAAAAAAAAAAAAAAAAAAAAAAAAAAAAAAAAAAAAAAAAAAAAAAAAAAAAAAAAAAAAAAAAAAAAAAAAAAAAAAAAAAAAAAAAAAAAAAAAAAAAAAAAAAAAAAAAAAAAAAAAAAAAAAAAAAAAAAAAAAAAAAAAAAAAAAAAAAAAAAAAAAAAAAAAAAAAAAAAAAAAAAAAAAAAAAAAAAAAAAAAAAAAAAAAAAAAAAAAAAAAAAAAAAAAAAAAAAAAAAAAAAAAAAAAAAAAAAAAAAAAAAAAAAAAAAAAAAAAAAAAAAAAAAAAAAAAAAAAAAAAAAAAAAAAAAAAAAAAAAAAAAAAAAAAAAAAAAAAAAAAAAAAAAAAAAAAAAAAAAAAAAAAAAAAAAAAAAAAAAAAAAAAAAAAAAAAAAAAAAAAAAAAAAAAAAAAAAAAAAAAAAAAAAAAAAAAAAAAAAAAAAAAAAAAAAAAAAAAAAAAAAAAAAAAAAAAAAAAAAAAAAAAAAAAAAAAAAAAAAAAAAAAAAAAAAAAAAAAAAAAAAAAAAAAAAAAAAAAAAAAAAAAAAAAAAAAAAAAAAAAAAAAAAAAAAAAAAAAAAAAAAAAAAAAAAAAAAAAAAAAAAAAAAAAAAAAAAAAAAAAAAAAAAAAAAAAAAAAAAAAAAAAAAAAAAAAAAAAAAAAAAAAAAAAAAAAAAAAAAAAAAAAAAAAAAAAAAAAAAAAAAAAAAAAAAAAAAAAAAAAAAAAAAAAAAAAAADTqGJKwecDP/ZibkXenxc/ZCd62AmzKT9e/rb2Oqc5PyRi9wuLiEc/UyVznm3hUz8DY8KPtQNfP/w0HL0bamY/cm+/FkQmbj/w9FEUrPhyP4oxmrlOe3Y/ssrxHL9EeT9UIXW+aCR7PzZ4Qgm8D3w/rvBoCIAUfD+m5IK6YEh7P83hAsnDwXk/Rmbguhafdz++M2POlxZ1P+Rzx0Wff3I/vpgvP99GcD+173ZjjZZtP+pIL/BTZWw/eOsHEEafbD+cT+HOYFhtP0JcuLnycG0/c/oaFf0ObD/H+BkTOfZoP2gLBU1al2Q/wVflvmq5Xz+uZm74F8FXP+D5AkCKflM/s/vqtvU4VT8PpsRLMpJfP2Tdnh6P3Go/efi96e3Jdj9x7n1s9FmCP4sAvYs+vos/yPInJheykz8nBRfxsV6aP3CHSPOuuqA/kvox+W04pD/g7sd1DWenP+W51iIxEqo/FYi04g0drD+3iRqSsoitP7TRXxwEc64/Znn4pb8Mrz8ZYDNjdImvP+msw+ipCLA/nOa5g69esD8Or4GqYtCwPw1lNbqlbLE/Z2xtfmBNsj8gQMro3ZWzPyKZD3yaabU/1BJptpfgtz/kpKsxswC7P0Tav91ewb4/ButUf52MwT+gGi2gKwfEPzFVelgY38Y/3HSH0Ikqyj+4c8IGrfrNPwL1fr5hJtE/TsF3+2SA0z9RQHFj5+3VP/NYwLwbS9g/PoJp3Ap42j9pZuUAVWHcPyUVP5zAA94/Cl43SAxp3z+A4HADo0/gP/ixT+kh1+A/JkoWjOxH4T/hN2wILpfhP6FTd30VteE/Hc9rINCR4T8SPJb2oSLhPzXOKLxoZeA/esin76vD3j9b5BRswVDcP3WrDZ4wntk/RlZMsnHZ1j8FKCn4WSbUP9GtDLc0l9E/iv1agT9Yzj/bZ/yWU7XJP20sXpfUM8U/4bzX5bfYwD8J7Kc1VIi5P0jNUY/7SrI/rly8fPCbqD87A7tVVeqeP/81Fl+PD5I/cHaEuz6Rgz+8mdfd3ZxzP9KiOImVJ2I/RI0fXtP+Tj8KYEnIgl84Pw==\",\"dtype\":\"float64\",\"order\":\"little\",\"shape\":[200]}},\"selected\":{\"id\":\"32417\"},\"selection_policy\":{\"id\":\"32435\"}},\"id\":\"32416\",\"type\":\"ColumnDataSource\"},{\"attributes\":{},\"id\":\"32355\",\"type\":\"BasicTicker\"},{\"attributes\":{\"data\":{\"x\":{\"__ndarray__\":\"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\",\"dtype\":\"float64\",\"order\":\"little\",\"shape\":[200]},\"y\":{\"__ndarray__\":\"AAAAAAAAAAAAAAAAAAAAAAAAAAAAAAAAAAAAAAAAAAAAAAAAAAAAAAAAAAAAAAAAAAAAAAAAAAAAAAAAAAAAAAAAAAAAAAAAAAAAAAAAAAAAAAAAAAAAAAAAAAAAAAAAAAAAAAAAAAAAAAAAAAAAAAAAAAAAAAAAAAAAAAAAAAAAAAAAAAAAAAAAAAAAAAAAAAAAAAAAAAAAAAAAAAAAAAAAAAAAAAAAAAAAAAAAAAAAAAAAAAAAAAAAAAAAAAAAAAAAAAAAAAAAAAAAAAAAAAAAAAAAAAAAAAAAAAAAAAAAAAAAAAAAAAAAAAAAAAAAAAAAAAAAAAAAAAAAAAAAAAAAAAAAAAAAAAAAAAAAAAAAAAAAAAAAAAAAAAAAAAAAAAAAAAAAAAAAAAAAAAAAAAAAAAAAAAAAAAAAAAAAAAAAAAAAAAAAAAAAAAAAAAAAAAAAAAAAAAAAAAAAAAAAAAAAAAAAAAAAAAAAAAAAAAAAAAAAAAAAAAAAAAAAAAAAAAAAAAAAAAAAAAAAAAAAAAAAAAAAAAAAAAAAAAAAAAAAAAAAAAAAAAAAAAAAAAAAAAAAAAAAAAAAAAAAAAAAAAAAAAAAAAAAAAAAAAAAAAAAAAAAAAAAAAAAAAAAAAAAAAAAAAAAAAAAAAAAAAAAAAAAAAAAAAAAAAAAAAAAAAAAAAAAAAAAAAAAAAAAAAAAAAAAAAAAAAAAAAAAAAAAAAAAAAAAAAAAAAAAAAAAAAAAAAAAAAAAAAAAAAAAAAAAAAAAAAAAAAAAAAAAAAAAAAAAAAAAAAAAAAAAAAAAAAAAAAAAAAAAAAAAAAAAAAAAAAAAAAAAAAAAAAAAAAAAAAAAAAAAAAAAAAAAAAAAAAAAAAAAAAAAAAAAAAAAAAAAAAAAAAAAAAAAAAAAAAAAAAAAAAAAAAAAAAAAAAAAAAAAAAAAAAAAAAAAAAAAAAAAAAAAAAAAAAAAAAAAAAAAAAAAAAAAAAAAAAAAAAAAAAAAAAAAAAAAAAAAAAAAAAAAAAAAAAAAAAAAAAAAAAAAAAAAAAAAAAAAAAAAAAAAAADoRQ/PHkPdPiYZEsnM8wg/JdGNXPXCKT+bL5gTv4tAP9WcUqW530s/XnFejC+IUD9zidqRIb9MP/Hdqt/MtUE/3prQZ2jOLD+2cywY2EINP7IYV+W0BuI+bl5/ySyXqj6hKecjqVpnPqJFs/6CXxg+A2Deucw0vj38GdxRNRd0PSJQGZvhwdE92BwOTZi8KT6lX/okOiR2PsyLbNZVobY+kg5F9w6J6z7lh1kFbA0UP1Awgl7YujE/Egi/g2ewQz+x0iuFc1tNP1otcV7G+E8/KfAJiicxSj8EeIg/DmE+P51rcbNZ8yY/BodE13NrBT+xVAq+bBnYPqAk1/AIL6A+uRv0uhgRWz7B9+UBL6ljPlYduVZQmKY+DnuqLF5s3z5V3HX32e0JP43NJfALZSk/a27YW0GSPT+34cobi7tEP1x5ef1iH0M/GP201v2KQT+WRlK2xPpIPzHpqoC14FE/jTkdwDZAUz/GbGcPpmxRP5qr6X03MlI/d5qYXEVIVz8TqyaLm9NcPzGMuqHhfV0/1P/XVKe3Vj8T0/9ZJ5tIPxXDegESTzI/Q6W9Td+1IT85tFrIVfw4P5g7v+nLy1M/3zoBKpDwZD8KmxWxT4tuP/lq9ehe9XA/FXtRZGVrcT+JYZfv40t1P6LdEiHZ5H4/aWDXRaeBhT9EwZ8rm7OJPwzI8JE5FYo/j0iNTuQOhz9+9JttLmuDP2t3H/viRYM/hyC9VO/iiD8Zjdv+UiuRPwcl/JdnX5U/S9LRg8Talz9Ac1u4ET+aP82Wvj3VJ54/SknfjFe1oT+u5FhQ5u2kP6J2mCStUqg/0O0tGeWeqz9BgZEn1miwP+sjzWrpXrU/CCCBHTPFvD+o2Rw2CMbCPxLvJM3Krsc/7U0MUVZszT9NcXHHcf3RPyUIKBlwm9U/nFi26T2q2T8DI6ofnCTeP4atpbxEKuE/fsuShec44j9JXQJF0kfhPxpssYXsjdw/hgFBxAic1D8/7uwSsXnKP4acvUhbFb4/sS0G03aIrD+UUX34ZbCUP3gs5WZ5KHU/JahRHJvNTD/hI8oz3iUZPw==\",\"dtype\":\"float64\",\"order\":\"little\",\"shape\":[200]}},\"selected\":{\"id\":\"32398\"},\"selection_policy\":{\"id\":\"32414\"}},\"id\":\"32397\",\"type\":\"ColumnDataSource\"},{\"attributes\":{\"click_policy\":\"mute\",\"items\":[{\"id\":\"32396\"},{\"id\":\"32415\"},{\"id\":\"32436\"}],\"title\":\"forecast_flag\"},\"id\":\"32395\",\"type\":\"Legend\"},{\"attributes\":{},\"id\":\"32435\",\"type\":\"UnionRenderers\"},{\"attributes\":{\"axis\":{\"id\":\"32354\"},\"grid_line_color\":null,\"ticker\":null},\"id\":\"32357\",\"type\":\"Grid\"},{\"attributes\":{\"fill_alpha\":0.5,\"fill_color\":\"#2ba02b\",\"line_alpha\":0.7,\"x\":{\"field\":\"x\"},\"y\":{\"field\":\"y\"}},\"id\":\"32419\",\"type\":\"Patch\"},{\"attributes\":{},\"id\":\"32417\",\"type\":\"Selection\"},{\"attributes\":{\"end\":17.32548221750232,\"reset_end\":17.32548221750232,\"reset_start\":-2.6946569782126875,\"start\":-2.6946569782126875,\"tags\":[[[\"num_total_rooms\",\"num_total_rooms\",null]]]},\"id\":\"32340\",\"type\":\"Range1d\"},{\"attributes\":{\"data_source\":{\"id\":\"32416\"},\"glyph\":{\"id\":\"32419\"},\"hover_glyph\":null,\"muted_glyph\":{\"id\":\"32421\"},\"nonselection_glyph\":{\"id\":\"32420\"},\"selection_glyph\":null,\"view\":{\"id\":\"32423\"}},\"id\":\"32422\",\"type\":\"GlyphRenderer\"},{\"attributes\":{\"align\":null,\"below\":[{\"id\":\"32354\"}],\"center\":[{\"id\":\"32357\"},{\"id\":\"32361\"},{\"id\":\"32395\"}],\"left\":[{\"id\":\"32358\"}],\"margin\":null,\"min_border_bottom\":10,\"min_border_left\":10,\"min_border_right\":10,\"min_border_top\":10,\"plot_height\":400,\"plot_width\":800,\"renderers\":[{\"id\":\"32385\"},{\"id\":\"32403\"},{\"id\":\"32422\"}],\"sizing_mode\":\"fixed\",\"title\":{\"id\":\"32346\"},\"toolbar\":{\"id\":\"32368\"},\"x_range\":{\"id\":\"32340\"},\"x_scale\":{\"id\":\"32350\"},\"y_range\":{\"id\":\"32341\"},\"y_scale\":{\"id\":\"32352\"}},\"id\":\"32345\",\"subtype\":\"Figure\",\"type\":\"Plot\"},{\"attributes\":{\"fill_alpha\":0.2,\"fill_color\":\"#ff7e0e\",\"line_alpha\":0.2,\"x\":{\"field\":\"x\"},\"y\":{\"field\":\"y\"}},\"id\":\"32402\",\"type\":\"Patch\"},{\"attributes\":{\"axis_label\":\"density\",\"bounds\":\"auto\",\"formatter\":{\"id\":\"32377\"},\"major_label_orientation\":\"horizontal\",\"ticker\":{\"id\":\"32359\"}},\"id\":\"32358\",\"type\":\"LinearAxis\"},{\"attributes\":{\"callback\":null,\"renderers\":[{\"id\":\"32385\"},{\"id\":\"32403\"},{\"id\":\"32422\"}],\"tags\":[\"hv_created\"],\"tooltips\":[[\"forecast_flag\",\"@{forecast_flag}\"],[\"num_total_rooms\",\"@{num_total_rooms}\"],[\"Density\",\"@{num_total_rooms_density}\"]]},\"id\":\"32342\",\"type\":\"HoverTool\"},{\"attributes\":{\"label\":{\"value\":\"under predict\"},\"renderers\":[{\"id\":\"32422\"}]},\"id\":\"32436\",\"type\":\"LegendItem\"},{\"attributes\":{\"fill_alpha\":0.5,\"fill_color\":\"#1f77b3\",\"line_alpha\":0.7,\"x\":{\"field\":\"x\"},\"y\":{\"field\":\"y\"}},\"id\":\"32383\",\"type\":\"Patch\"},{\"attributes\":{\"source\":{\"id\":\"32416\"}},\"id\":\"32423\",\"type\":\"CDSView\"},{\"attributes\":{},\"id\":\"32398\",\"type\":\"Selection\"},{\"attributes\":{\"label\":{\"value\":\"good\"},\"renderers\":[{\"id\":\"32403\"}]},\"id\":\"32415\",\"type\":\"LegendItem\"},{\"attributes\":{\"fill_alpha\":0.5,\"fill_color\":\"#ff7e0e\",\"line_alpha\":0.7,\"x\":{\"field\":\"x\"},\"y\":{\"field\":\"y\"}},\"id\":\"32401\",\"type\":\"Patch\"}],\"root_ids\":[\"32338\"]},\"title\":\"Bokeh Application\",\"version\":\"2.2.3\"}};\n",
       "  var render_items = [{\"docid\":\"735383ad-8d50-4e16-9b88-6f1220f3ddda\",\"root_ids\":[\"32338\"],\"roots\":{\"32338\":\"369cd905-b852-415c-9ed2-dea573cbce76\"}}];\n",
       "  root.Bokeh.embed.embed_items_notebook(docs_json, render_items);\n",
       "  }\n",
       "if (root.Bokeh !== undefined) {\n",
       "    embed_document(root);\n",
       "  } else {\n",
       "    var attempts = 0;\n",
       "    var timer = setInterval(function(root) {\n",
       "      if (root.Bokeh !== undefined) {\n",
       "        clearInterval(timer);\n",
       "        embed_document(root);\n",
       "      } else if (document.readyState == \"complete\") {\n",
       "        attempts++;\n",
       "        if (attempts > 100) {\n",
       "          clearInterval(timer);\n",
       "          console.log(\"Bokeh: ERROR: Unable to run BokehJS code because BokehJS library is missing\");\n",
       "        }\n",
       "      }\n",
       "    }, 10, root)\n",
       "  }\n",
       "})(window);</script>"
      ],
      "text/plain": [
       ":NdOverlay   [forecast_flag]\n",
       "   :Distribution   [num_total_rooms]   (Density)"
      ]
     },
     "execution_count": 50,
     "metadata": {
      "application/vnd.holoviews_exec.v0+json": {
       "id": "32338"
      }
     },
     "output_type": "execute_result"
    }
   ],
   "source": [
    "residual_analysis.hvplot.kde(y=\"num_total_rooms\",by=\"forecast_flag\", ## Grouping by Predictions\n",
    "                                width=800, height=400,\n",
    "                                alpha=0.7,\n",
    "                                ylabel=\"density\",\n",
    "                                xlabel=\"num_total_rooms\",\n",
    "                                title=f'num_total_rooms(density)',legend='top_right')"
   ]
  },
  {
   "cell_type": "markdown",
   "metadata": {},
   "source": [
    "- From the above plot we can infer that the higher \"over predictions\" are happening for unit_cost > 200.\n",
    "- similarly, the higher \"under predictions\" are happening for unit_cost is zero.\n",
    "\n",
    "This can help us tune the model by a separate model for unit_cost > 200\n"
   ]
  },
  {
   "cell_type": "markdown",
   "metadata": {},
   "source": [
    "# 4.2 Modelling - XGBoost"
   ]
  },
  {
   "cell_type": "markdown",
   "metadata": {},
   "source": [
    "## 4.2.1 Model training pipeline\n",
    "\n",
    "Here we focus on creating a collection of pipelines that can be used for tranining respective models.\n",
    "\n",
    "Each model pipeline will essentially be of the form\n",
    "```\n",
    "[\n",
    "('preprocessing', preprocessing_pipeline),\n",
    "('feature_selection', feature_selection_pipeline),\n",
    "('estimator', estimator),\n",
    "]\n",
    "```"
   ]
  },
  {
   "cell_type": "markdown",
   "metadata": {},
   "source": [
    "### 4.2.2 Model Pipeline Build"
   ]
  },
  {
   "cell_type": "code",
   "execution_count": 51,
   "metadata": {},
   "outputs": [
    {
     "data": {
      "text/plain": [
       "Pipeline(steps=[('XGBoost',\n",
       "                 XGBRegressor(base_score=0.5, booster='gbtree',\n",
       "                              colsample_bylevel=1, colsample_bynode=1,\n",
       "                              colsample_bytree=1, gamma=0, gpu_id=-1,\n",
       "                              importance_type='gain',\n",
       "                              interaction_constraints='',\n",
       "                              learning_rate=0.300000012, max_delta_step=0,\n",
       "                              max_depth=6, min_child_weight=1, missing=nan,\n",
       "                              monotone_constraints='()', n_estimators=100,\n",
       "                              n_jobs=0, num_parallel_tree=1, random_state=0,\n",
       "                              reg_alpha=0, reg_lambda=1, scale_pos_weight=1,\n",
       "                              subsample=1, tree_method='exact',\n",
       "                              validate_parameters=1, verbosity=None))])"
      ]
     },
     "execution_count": 51,
     "metadata": {},
     "output_type": "execute_result"
    }
   ],
   "source": [
    "# let's find features for some decent defaults\n",
    "estimator = XGBRegressor()\n",
    "xgb_training_pipe_init = Pipeline([\n",
    "    ('XGBoost', XGBRegressor())\n",
    "])\n",
    "xgb_training_pipe_init.fit(train_X, train_y)"
   ]
  },
  {
   "cell_type": "markdown",
   "metadata": {},
   "source": [
    "### 4.2.3 Model Tuning"
   ]
  },
  {
   "cell_type": "code",
   "execution_count": 52,
   "metadata": {},
   "outputs": [
    {
     "data": {
      "text/plain": [
       "<AxesSubplot:>"
      ]
     },
     "execution_count": 52,
     "metadata": {},
     "output_type": "execute_result"
    },
    {
     "data": {
      "image/png": "[encoded data removed]",
      "text/plain": [
       "<Figure size 432x288 with 1 Axes>"
      ]
     },
     "metadata": {
      "needs_background": "light"
     },
     "output_type": "display_data"
    }
   ],
   "source": [
    "# Understanding the Feature Importance\n",
    "%matplotlib inline\n",
    "imp = pd.DataFrame({'importance': xgb_training_pipe_init['XGBoost'].feature_importances_})\n",
    "imp.index = train_X.columns\n",
    "imp.sort_values('importance',inplace=True)\n",
    "imp.plot(kind='barh')"
   ]
  },
  {
   "cell_type": "markdown",
   "metadata": {},
   "source": [
    "'condition','model_family','days_since_last_purchase','first_time_customer','sales_person', are considered to be important and in grid search"
   ]
  },
  {
   "cell_type": "markdown",
   "metadata": {},
   "source": [
    "##### Pipeline build based on new importance features"
   ]
  },
  {
   "cell_type": "code",
   "execution_count": 53,
   "metadata": {},
   "outputs": [],
   "source": [
    "# let's find features for some decent defaults\n",
    "imp_features = []\n",
    "\n",
    "estimator = XGBRegressor()\n",
    "xgb_training_pipe2 = Pipeline([\n",
    "    ('', FunctionTransformer(_custom_data_transform, kw_args={'cols2keep':imp_features})),\n",
    "    ('XGBoost', XGBRegressor())\n",
    "])"
   ]
  },
  {
   "cell_type": "markdown",
   "metadata": {},
   "source": [
    "#### Grid Search of the Estimator"
   ]
  },
  {
   "cell_type": "code",
   "execution_count": 54,
   "metadata": {},
   "outputs": [
    {
     "name": "stdout",
     "output_type": "stream",
     "text": [
      "Fitting 2 folds for each of 1 candidates, totalling 2 fits\n"
     ]
    },
    {
     "name": "stderr",
     "output_type": "stream",
     "text": [
      "[Parallel(n_jobs=4)]: Using backend LokyBackend with 4 concurrent workers.\n",
      "[Parallel(n_jobs=4)]: Done   2 out of   2 | elapsed:    7.1s finished\n"
     ]
    },
    {
     "name": "stdout",
     "output_type": "stream",
     "text": [
      "0.8110126220241229\n",
      "{'gamma': 0.03, 'learning_rate': 0.1, 'max_depth': 3, 'min_child_weight': 6, 'n_estimators': 500}\n",
      "CPU times: user 9.45 s, sys: 232 ms, total: 9.68 s\n",
      "Wall time: 8.47 s\n"
     ]
    }
   ],
   "source": [
    "%%time\n",
    "parameters = {\n",
    "   'gamma':[0.03],\n",
    "   'min_child_weight':[6],\n",
    "   'learning_rate':[0.1],\n",
    "   'max_depth':[3],\n",
    "   'n_estimators':[500], \n",
    "}\n",
    "est = XGBRegressor()\n",
    "xgb_grid = GridSearchCV(est,\n",
    "                        parameters,\n",
    "                        cv = 2,\n",
    "                        n_jobs = 4,\n",
    "                        verbose=True)\n",
    "\n",
    "xgb_grid.fit(train_X, train_y)\n",
    "\n",
    "print(xgb_grid.best_score_)\n",
    "print(xgb_grid.best_params_)"
   ]
  },
  {
   "cell_type": "markdown",
   "metadata": {},
   "source": [
    "#### Pipeline Build using the best estimator"
   ]
  },
  {
   "cell_type": "code",
   "execution_count": 55,
   "metadata": {},
   "outputs": [
    {
     "data": {
      "text/plain": [
       "Pipeline(steps=[('',\n",
       "                 FunctionTransformer(func=<function _custom_data_transform at 0x7f9f3816e820>,\n",
       "                                     kw_args={'cols2keep': []})),\n",
       "                ('XGBoost',\n",
       "                 XGBRegressor(base_score=0.5, booster='gbtree',\n",
       "                              colsample_bylevel=1, colsample_bynode=1,\n",
       "                              colsample_bytree=1, gamma=0.03, gpu_id=-1,\n",
       "                              importance_type='gain',\n",
       "                              interaction_constraints='', learning_rate=0.1,\n",
       "                              max_delta_step=0, max_depth=3, min_child_weight=6,\n",
       "                              missing=nan, monotone_constraints='()',\n",
       "                              n_estimators=500, n_jobs=0, num_parallel_tree=1,\n",
       "                              random_state=0, reg_alpha=0, reg_lambda=1,\n",
       "                              scale_pos_weight=1, subsample=1,\n",
       "                              tree_method='exact', validate_parameters=1,\n",
       "                              verbosity=None))])"
      ]
     },
     "execution_count": 55,
     "metadata": {},
     "output_type": "execute_result"
    }
   ],
   "source": [
    "xgb_pipeline_final = Pipeline([\n",
    "    ('', FunctionTransformer(_custom_data_transform, kw_args={'cols2keep':imp_features})),\n",
    "    ('XGBoost', xgb_grid.best_estimator_)\n",
    "])\n",
    "xgb_pipeline_final.fit(train_X, train_y)"
   ]
  },
  {
   "cell_type": "code",
   "execution_count": 60,
   "metadata": {},
   "outputs": [],
   "source": [
    "reg_tree_report = RegressionReport(model=xgb_pipeline_final,refit=True, x_train=train_X, y_train=train_y, x_test= test_X, y_test= test_y)\n",
    "reg_tree_report.get_report(include_shap=False, file_path='regression_tree_model_report')"
   ]
  },
  {
   "cell_type": "markdown",
   "metadata": {},
   "source": [
    "The Regression report containing the feature importances are available [here](https://drive.google.com/file/d/1-VvhnH-TELL_SYQP1SA91KeGbSI48bCl/view?usp=sharing)"
   ]
  },
  {
   "cell_type": "markdown",
   "metadata": {},
   "source": [
    "# 5 Model Comparison"
   ]
  },
  {
   "cell_type": "markdown",
   "metadata": {},
   "source": [
    "Now, a comparison report of the  linear (vs) tree -based model  approach can be generated as follows.\n",
    "\n",
    "This code will not be part of the production code."
   ]
  },
  {
   "cell_type": "code",
   "execution_count": 63,
   "metadata": {},
   "outputs": [],
   "source": [
    "model_pipelines = [reg_ppln, xgb_pipeline_final]\n",
    "model_comparison_report = RegressionComparison(models=model_pipelines,x=train_X, y=train_y)\n",
    "metrics = model_comparison_report.get_report(file_path='regression_comparison',include_shap=False)"
   ]
  },
  {
   "cell_type": "code",
   "execution_count": 62,
   "metadata": {},
   "outputs": [
    {
     "data": {
      "text/html": [
       "<div>\n",
       "<style scoped>\n",
       "    .dataframe tbody tr th:only-of-type {\n",
       "        vertical-align: middle;\n",
       "    }\n",
       "\n",
       "    .dataframe tbody tr th {\n",
       "        vertical-align: top;\n",
       "    }\n",
       "\n",
       "    .dataframe thead th {\n",
       "        text-align: right;\n",
       "    }\n",
       "</style>\n",
       "<table border=\"1\" class=\"dataframe\">\n",
       "  <thead>\n",
       "    <tr style=\"text-align: right;\">\n",
       "      <th>metric</th>\n",
       "      <th>MAPE</th>\n",
       "      <th>WMAPE</th>\n",
       "      <th>MAE</th>\n",
       "      <th>RMSE</th>\n",
       "      <th>R^2</th>\n",
       "    </tr>\n",
       "  </thead>\n",
       "  <tbody>\n",
       "    <tr>\n",
       "      <th>, Linear Regression</th>\n",
       "      <td>0.2980</td>\n",
       "      <td>0.2384</td>\n",
       "      <td>49295.8945</td>\n",
       "      <td>67729.5520</td>\n",
       "      <td>0.6540</td>\n",
       "    </tr>\n",
       "    <tr>\n",
       "      <th>, XGBoost</th>\n",
       "      <td>0.1636</td>\n",
       "      <td>0.1412</td>\n",
       "      <td>29188.3233</td>\n",
       "      <td>42324.3732</td>\n",
       "      <td>0.8649</td>\n",
       "    </tr>\n",
       "  </tbody>\n",
       "</table>\n",
       "</div>"
      ],
      "text/plain": [
       "metric                 MAPE   WMAPE         MAE        RMSE     R^2\n",
       ", Linear Regression  0.2980  0.2384  49295.8945  67729.5520  0.6540\n",
       ", XGBoost            0.1636  0.1412  29188.3233  42324.3732  0.8649"
      ]
     },
     "execution_count": 62,
     "metadata": {},
     "output_type": "execute_result"
    }
   ],
   "source": [
    "model_comparison_report.performance_metrics"
   ]
  },
  {
   "cell_type": "markdown",
   "metadata": {},
   "source": [
    "A report comparing the performance, metrics between Linear model and Tree model are available [here](https://drive.google.com/file/d/1t2VtBffSH5gfhxyaXZrfNufuRgMFZhc9/view?usp=sharing)"
   ]
  },
  {
   "cell_type": "markdown",
   "metadata": {},
   "source": [
    "**Dev NOTES**\n",
    "<details>\n",
    "\n",
    "the above metrics are absolute nos and not %ges"
   ]
  },
  {
   "cell_type": "markdown",
   "metadata": {},
   "source": [
    "In this example we are choosing LM model for pipelining. General criteria for choosing production models is:\n",
    "\n",
    "- Parametric models (aka whitebox models) such as Linear Regression are easier to explain to non-technical audience.\n",
    "- Generally these are accepted fast and adoption is quicker.\n",
    "- If the downstream calls for optimization using these models parametric models are easier to implement.\n",
    "- When accuracy is primary goal without explainability, the above two takes a backseat"
   ]
  }
 ],
 "metadata": {
  "kernelspec": {
   "display_name": "Python 3",
   "language": "python",
   "name": "python3"
  },
  "language_info": {
   "codemirror_mode": {
    "name": "ipython",
    "version": 3
   },
   "file_extension": ".py",
   "mimetype": "text/x-python",
   "name": "python",
   "nbconvert_exporter": "python",
   "pygments_lexer": "ipython3",
   "version": "3.8.11"
  }
 },
 "nbformat": 4,
 "nbformat_minor": 4
}
